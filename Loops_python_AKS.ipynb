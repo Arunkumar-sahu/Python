{
  "nbformat": 4,
  "nbformat_minor": 0,
  "metadata": {
    "colab": {
      "provenance": []
    },
    "kernelspec": {
      "name": "python3",
      "display_name": "Python 3"
    },
    "language_info": {
      "name": "python"
    }
  },
  "cells": [
    {
      "cell_type": "markdown",
      "source": [
        "**Loops**"
      ],
      "metadata": {
        "id": "3S36QMpIndVb"
      }
    },
    {
      "cell_type": "markdown",
      "source": [
        "write a program to display the first 10 numbers. #while loop"
      ],
      "metadata": {
        "id": "0ldnNn6Voiz4"
      }
    },
    {
      "cell_type": "code",
      "source": [
        "a=1 #a is called temp variable\n",
        "\n",
        "while a<=10:\n",
        "  print(a)\n",
        "  a=a+1"
      ],
      "metadata": {
        "colab": {
          "base_uri": "https://localhost:8080/"
        },
        "id": "6IOHP3S-nZUQ",
        "outputId": "751ca813-8404-41d6-cf07-36f6e1f78bd3"
      },
      "execution_count": null,
      "outputs": [
        {
          "output_type": "stream",
          "name": "stdout",
          "text": [
            "1\n",
            "2\n",
            "3\n",
            "4\n",
            "5\n",
            "6\n",
            "7\n",
            "8\n",
            "9\n",
            "10\n"
          ]
        }
      ]
    },
    {
      "cell_type": "code",
      "source": [
        "a=1\n",
        "\n",
        "while a<14:\n",
        "  print(a)\n",
        "  a=a+1"
      ],
      "metadata": {
        "colab": {
          "base_uri": "https://localhost:8080/"
        },
        "id": "bhT6njydpFQ_",
        "outputId": "6a1590ed-2693-4643-e010-7cb809a05f42"
      },
      "execution_count": null,
      "outputs": [
        {
          "output_type": "stream",
          "name": "stdout",
          "text": [
            "1\n",
            "2\n",
            "3\n",
            "4\n",
            "5\n",
            "6\n",
            "7\n",
            "8\n",
            "9\n",
            "10\n",
            "11\n",
            "12\n",
            "13\n"
          ]
        }
      ]
    },
    {
      "cell_type": "markdown",
      "source": [
        "write a program to display odd numbers between 1-10"
      ],
      "metadata": {
        "id": "efLv5muvpnxU"
      }
    },
    {
      "cell_type": "code",
      "source": [
        "a=1\n",
        "\n",
        "while a<=10:\n",
        "  print(a)\n",
        "  a=a+2"
      ],
      "metadata": {
        "colab": {
          "base_uri": "https://localhost:8080/"
        },
        "id": "pduiOx97pM5U",
        "outputId": "2dd8ffa6-10e6-4922-afb9-d9e5b036cc86"
      },
      "execution_count": null,
      "outputs": [
        {
          "output_type": "stream",
          "name": "stdout",
          "text": [
            "1\n",
            "3\n",
            "5\n",
            "7\n",
            "9\n"
          ]
        }
      ]
    },
    {
      "cell_type": "code",
      "source": [
        "a=1\n",
        "\n",
        "while a<11:\n",
        "  print(a)\n",
        "  a=a+2"
      ],
      "metadata": {
        "colab": {
          "base_uri": "https://localhost:8080/"
        },
        "id": "2G_uyucxp2o4",
        "outputId": "80eff9db-f52c-4cb9-8cc3-b1bfd7161456"
      },
      "execution_count": null,
      "outputs": [
        {
          "output_type": "stream",
          "name": "stdout",
          "text": [
            "1\n",
            "3\n",
            "5\n",
            "7\n",
            "9\n"
          ]
        }
      ]
    },
    {
      "cell_type": "code",
      "source": [
        "a=2\n",
        "\n",
        "while a<=10:\n",
        " print(a)\n",
        " a=a+2"
      ],
      "metadata": {
        "colab": {
          "base_uri": "https://localhost:8080/"
        },
        "id": "0A3BiVntqlS5",
        "outputId": "327b1e54-0ca4-4fd6-caae-ecc71f974013"
      },
      "execution_count": null,
      "outputs": [
        {
          "output_type": "stream",
          "name": "stdout",
          "text": [
            "2\n",
            "4\n",
            "6\n",
            "8\n",
            "10\n"
          ]
        }
      ]
    },
    {
      "cell_type": "code",
      "source": [
        "a=2\n",
        "\n",
        "while a<11:\n",
        " print(a)\n",
        " a=a+2"
      ],
      "metadata": {
        "colab": {
          "base_uri": "https://localhost:8080/"
        },
        "id": "Se2DcacKq0g-",
        "outputId": "7eb1205c-7db1-4806-885f-3793e018a072"
      },
      "execution_count": null,
      "outputs": [
        {
          "output_type": "stream",
          "name": "stdout",
          "text": [
            "2\n",
            "4\n",
            "6\n",
            "8\n",
            "10\n"
          ]
        }
      ]
    },
    {
      "cell_type": "code",
      "source": [
        "a=7\n",
        "b=5\n",
        "\n",
        "while a<9:\n",
        "  print(a+b)\n",
        "  a=a+1"
      ],
      "metadata": {
        "colab": {
          "base_uri": "https://localhost:8080/"
        },
        "id": "GnIb6_TjuPem",
        "outputId": "de54c20c-de99-4dfa-af8d-133389aed8c1"
      },
      "execution_count": null,
      "outputs": [
        {
          "output_type": "stream",
          "name": "stdout",
          "text": [
            "12\n",
            "13\n"
          ]
        }
      ]
    },
    {
      "cell_type": "code",
      "source": [
        "x=5\n",
        "\n",
        "while x<15:\n",
        "  print(x**2)\n",
        "  x=x+3"
      ],
      "metadata": {
        "colab": {
          "base_uri": "https://localhost:8080/"
        },
        "id": "826XHQJkw3OM",
        "outputId": "5006ab74-2f2f-4eaa-907d-6e244dc8889a"
      },
      "execution_count": null,
      "outputs": [
        {
          "output_type": "stream",
          "name": "stdout",
          "text": [
            "25\n",
            "64\n",
            "121\n",
            "196\n"
          ]
        }
      ]
    },
    {
      "cell_type": "markdown",
      "source": [
        "questions:\n",
        "\n",
        "take a number as input from the user & display the multiplication table (fill 10) for that given number."
      ],
      "metadata": {
        "id": "VnaINlLc0HzP"
      }
    },
    {
      "cell_type": "code",
      "source": [
        "num=int(input('enter yor number'))\n",
        "a=1\n",
        "\n",
        "while a<11:\n",
        "  print(num*a)\n",
        "  a=a+1"
      ],
      "metadata": {
        "colab": {
          "base_uri": "https://localhost:8080/"
        },
        "id": "P2zBHX9Q0KTH",
        "outputId": "00eaecdd-bc49-4ea9-9025-d7069c0d1862"
      },
      "execution_count": null,
      "outputs": [
        {
          "output_type": "stream",
          "name": "stdout",
          "text": [
            "enter yor number5\n",
            "5\n",
            "10\n",
            "15\n",
            "20\n",
            "25\n",
            "30\n",
            "35\n",
            "40\n",
            "45\n",
            "50\n"
          ]
        }
      ]
    },
    {
      "cell_type": "markdown",
      "source": [
        "write a program to display the first 10 numbers. #for loop"
      ],
      "metadata": {
        "id": "fNfdJUbZrPzm"
      }
    },
    {
      "cell_type": "code",
      "source": [
        "for i in range(1,11,1): # or else (1,11)\n",
        "  print(i)"
      ],
      "metadata": {
        "colab": {
          "base_uri": "https://localhost:8080/"
        },
        "id": "ukHkpiQvrEJb",
        "outputId": "739f86fb-de48-4ffb-b617-db6405c4c955"
      },
      "execution_count": null,
      "outputs": [
        {
          "output_type": "stream",
          "name": "stdout",
          "text": [
            "1\n",
            "2\n",
            "3\n",
            "4\n",
            "5\n",
            "6\n",
            "7\n",
            "8\n",
            "9\n",
            "10\n"
          ]
        }
      ]
    },
    {
      "cell_type": "code",
      "source": [
        "for i in range(1,11,2):\n",
        "  print(i)"
      ],
      "metadata": {
        "colab": {
          "base_uri": "https://localhost:8080/"
        },
        "id": "EIzSyAEEtOJE",
        "outputId": "bbebc83a-353c-4391-8904-86fa923e010c"
      },
      "execution_count": null,
      "outputs": [
        {
          "output_type": "stream",
          "name": "stdout",
          "text": [
            "1\n",
            "3\n",
            "5\n",
            "7\n",
            "9\n"
          ]
        }
      ]
    },
    {
      "cell_type": "markdown",
      "source": [
        "questions:\n",
        "\n",
        "take a number as input from the user & display the multiplication table (fill 10) for that given number."
      ],
      "metadata": {
        "id": "LMkK8u2WtA1G"
      }
    },
    {
      "cell_type": "code",
      "source": [
        "num=int(input('enter your number'))\n",
        "\n",
        "for i in range(1,11):\n",
        " print(num*i)"
      ],
      "metadata": {
        "colab": {
          "base_uri": "https://localhost:8080/"
        },
        "id": "mVODWu97t4hs",
        "outputId": "fac9a6dd-23b2-4303-8756-33c15e786fd9"
      },
      "execution_count": null,
      "outputs": [
        {
          "output_type": "stream",
          "name": "stdout",
          "text": [
            "enter your number7\n",
            "7\n",
            "14\n",
            "21\n",
            "28\n",
            "35\n",
            "42\n",
            "49\n",
            "56\n",
            "63\n",
            "70\n"
          ]
        }
      ]
    },
    {
      "cell_type": "markdown",
      "source": [
        "take a list of number & display all the even number from the given list."
      ],
      "metadata": {
        "id": "y4TCiT2ZIuW2"
      }
    },
    {
      "cell_type": "code",
      "source": [
        "l1=[2,3,4,5,6,7,9,11,12,14,15]\n",
        "\n",
        "for i in l1:\n",
        " if i%2==0:\n",
        "   print(i)"
      ],
      "metadata": {
        "colab": {
          "base_uri": "https://localhost:8080/"
        },
        "id": "CWA1jjqFJhwm",
        "outputId": "b3c052bf-526b-48c9-f2b2-90619a170a43"
      },
      "execution_count": null,
      "outputs": [
        {
          "output_type": "stream",
          "name": "stdout",
          "text": [
            "2\n",
            "4\n",
            "6\n",
            "12\n",
            "14\n"
          ]
        }
      ]
    },
    {
      "cell_type": "code",
      "source": [
        "l1=[2,3,4,5,6,7,9,11,12,14,15]\n",
        "\n",
        "for i in l1:\n",
        " if i%2==1:\n",
        "   print(i)"
      ],
      "metadata": {
        "colab": {
          "base_uri": "https://localhost:8080/"
        },
        "id": "3tT8uD-sKMWv",
        "outputId": "7f93f9f4-aa52-4078-ec12-d8e86d969536"
      },
      "execution_count": null,
      "outputs": [
        {
          "output_type": "stream",
          "name": "stdout",
          "text": [
            "3\n",
            "5\n",
            "7\n",
            "9\n",
            "11\n",
            "15\n"
          ]
        }
      ]
    },
    {
      "cell_type": "markdown",
      "source": [
        " take a list of number & display the square of all numbers given in the list."
      ],
      "metadata": {
        "id": "hyvTBhSkPR2f"
      }
    },
    {
      "cell_type": "code",
      "source": [
        "l2=[2,3,4,5,6]\n",
        "\n",
        "for i in l2:\n",
        "  print(i**2)"
      ],
      "metadata": {
        "colab": {
          "base_uri": "https://localhost:8080/"
        },
        "id": "oc5RkHugP4Ax",
        "outputId": "8ec0aeb1-7ee4-454b-cfe3-6ef4f5a1f8ce"
      },
      "execution_count": null,
      "outputs": [
        {
          "output_type": "stream",
          "name": "stdout",
          "text": [
            "4\n",
            "9\n",
            "16\n",
            "25\n",
            "36\n"
          ]
        }
      ]
    },
    {
      "cell_type": "markdown",
      "source": [
        " take a list of number & display the square of all the odd numbers given in the list."
      ],
      "metadata": {
        "id": "c3wEIOBBOJbj"
      }
    },
    {
      "cell_type": "code",
      "source": [
        "l2=[2,3,4,5,6]\n",
        "\n",
        "for i in l2:\n",
        "  if i%2!=0:\n",
        "   print(i**2)"
      ],
      "metadata": {
        "colab": {
          "base_uri": "https://localhost:8080/"
        },
        "id": "29Oh_uroQZU8",
        "outputId": "e7ce1e47-bf0f-47d4-e86c-2f92b52d3f0b"
      },
      "execution_count": null,
      "outputs": [
        {
          "output_type": "stream",
          "name": "stdout",
          "text": [
            "9\n",
            "25\n"
          ]
        }
      ]
    },
    {
      "cell_type": "markdown",
      "source": [
        " take a list of number & display the square of all the even numbers given in the list."
      ],
      "metadata": {
        "id": "PAeYcqedW0B0"
      }
    },
    {
      "cell_type": "code",
      "source": [
        "l2=[2,3,4,5,6]\n",
        "\n",
        "for i in l2:\n",
        "  if i%2==0:\n",
        "   print(i**2)"
      ],
      "metadata": {
        "colab": {
          "base_uri": "https://localhost:8080/"
        },
        "id": "QmyaFEs7WaxB",
        "outputId": "03e1a2f5-ef8d-4ce0-8fcd-f94f71ccbd62"
      },
      "execution_count": null,
      "outputs": [
        {
          "output_type": "stream",
          "name": "stdout",
          "text": [
            "4\n",
            "16\n",
            "36\n"
          ]
        }
      ]
    },
    {
      "cell_type": "markdown",
      "source": [
        "Take a list of numbers & display the count of even numbers & count of odd numbers in the given list."
      ],
      "metadata": {
        "id": "XNrA1sZPLo-0"
      }
    },
    {
      "cell_type": "code",
      "source": [
        "l3=[2,3,4,5,6,7,9,12,13]\n",
        "\n",
        "count_even=0\n",
        "count_odd=0\n",
        "\n",
        "for i in l3:\n",
        "  if i%2==0:\n",
        "    count_even=count_even+1\n",
        "\n",
        "  else:\n",
        "    count_odd=count_odd+1\n",
        "print('in the given list count of even numbers is', count_even , '& count of odd number is', count_odd )"
      ],
      "metadata": {
        "colab": {
          "base_uri": "https://localhost:8080/"
        },
        "id": "wCFhJQfaL9qi",
        "outputId": "6d7eafa1-00f4-4186-ee35-048fc4d95b60"
      },
      "execution_count": null,
      "outputs": [
        {
          "output_type": "stream",
          "name": "stdout",
          "text": [
            "in the given list count of even numbers is 4 & count of odd number is 5\n"
          ]
        }
      ]
    }
  ]
}