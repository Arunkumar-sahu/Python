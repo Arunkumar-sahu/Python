{
  "nbformat": 4,
  "nbformat_minor": 0,
  "metadata": {
    "colab": {
      "provenance": []
    },
    "kernelspec": {
      "name": "python3",
      "display_name": "Python 3"
    },
    "language_info": {
      "name": "python"
    }
  },
  "cells": [
    {
      "cell_type": "markdown",
      "metadata": {
        "id": "KEYmQzXTMhD7"
      },
      "source": [
        "**Nested list**"
      ]
    },
    {
      "cell_type": "code",
      "execution_count": null,
      "metadata": {
        "id": "CUtG6a7XL13L"
      },
      "outputs": [],
      "source": [
        "l1=[20,25,30,35,-50,-55,['delhi','faridabad','noida','gurgaon']]"
      ]
    },
    {
      "cell_type": "code",
      "execution_count": null,
      "metadata": {
        "id": "PxYE5yY0Sco8",
        "colab": {
          "base_uri": "https://localhost:8080/",
          "height": 35
        },
        "outputId": "ebd0c79c-c8b0-469e-bed8-0c1f9b6504fa"
      },
      "outputs": [
        {
          "output_type": "execute_result",
          "data": {
            "text/plain": [
              "'delhi'"
            ],
            "application/vnd.google.colaboratory.intrinsic+json": {
              "type": "string"
            }
          },
          "metadata": {},
          "execution_count": 72
        }
      ],
      "source": [
        "l1[6][0]"
      ]
    },
    {
      "cell_type": "code",
      "execution_count": null,
      "metadata": {
        "id": "3fUKlsIeS8rm",
        "colab": {
          "base_uri": "https://localhost:8080/",
          "height": 35
        },
        "outputId": "6cb9ac44-79ef-4dc0-aa58-e3e34feb293f"
      },
      "outputs": [
        {
          "output_type": "execute_result",
          "data": {
            "text/plain": [
              "'delhi'"
            ],
            "application/vnd.google.colaboratory.intrinsic+json": {
              "type": "string"
            }
          },
          "metadata": {},
          "execution_count": 73
        }
      ],
      "source": [
        "l1[6][-4]"
      ]
    },
    {
      "cell_type": "code",
      "execution_count": null,
      "metadata": {
        "id": "WR46tS8hTE_W",
        "colab": {
          "base_uri": "https://localhost:8080/",
          "height": 35
        },
        "outputId": "ba7f5da9-7a27-4a6b-8dc5-c8d4f36bc2a2"
      },
      "outputs": [
        {
          "output_type": "execute_result",
          "data": {
            "text/plain": [
              "'delhi'"
            ],
            "application/vnd.google.colaboratory.intrinsic+json": {
              "type": "string"
            }
          },
          "metadata": {},
          "execution_count": 74
        }
      ],
      "source": [
        "l1[-1][-4]"
      ]
    },
    {
      "cell_type": "code",
      "execution_count": null,
      "metadata": {
        "id": "illXqE6jTKAL",
        "colab": {
          "base_uri": "https://localhost:8080/",
          "height": 35
        },
        "outputId": "d31cf786-5271-4ad5-9008-7c42bc106509"
      },
      "outputs": [
        {
          "output_type": "execute_result",
          "data": {
            "text/plain": [
              "'delhi'"
            ],
            "application/vnd.google.colaboratory.intrinsic+json": {
              "type": "string"
            }
          },
          "metadata": {},
          "execution_count": 75
        }
      ],
      "source": [
        "l1[-1][0]"
      ]
    },
    {
      "cell_type": "code",
      "execution_count": null,
      "metadata": {
        "id": "s_DbZHJzTT1q",
        "colab": {
          "base_uri": "https://localhost:8080/"
        },
        "outputId": "e5524eb4-3581-41d8-bda2-035aaa0b4c2b"
      },
      "outputs": [
        {
          "output_type": "execute_result",
          "data": {
            "text/plain": [
              "['delhi', 'faridabad', 'noida', 'gurgaon']"
            ]
          },
          "metadata": {},
          "execution_count": 76
        }
      ],
      "source": [
        "l1[6]"
      ]
    },
    {
      "cell_type": "code",
      "execution_count": null,
      "metadata": {
        "id": "ziAwEkIwTXXa",
        "colab": {
          "base_uri": "https://localhost:8080/"
        },
        "outputId": "b4582e37-d094-46f1-ca2f-5c2d90c017fe"
      },
      "outputs": [
        {
          "output_type": "execute_result",
          "data": {
            "text/plain": [
              "['faridabad', 'noida']"
            ]
          },
          "metadata": {},
          "execution_count": 77
        }
      ],
      "source": [
        "l1[6][1:3]"
      ]
    },
    {
      "cell_type": "code",
      "execution_count": null,
      "metadata": {
        "id": "bjOkQpzQTyPR"
      },
      "outputs": [],
      "source": [
        "a=l1[2:4]\n",
        "\n"
      ]
    },
    {
      "cell_type": "code",
      "execution_count": null,
      "metadata": {
        "id": "UZ11SJTMVPKv",
        "colab": {
          "base_uri": "https://localhost:8080/"
        },
        "outputId": "acfb17b9-2b9c-484e-f9b4-af7ec2982ce3"
      },
      "outputs": [
        {
          "output_type": "stream",
          "name": "stdout",
          "text": [
            "[30, 35]\n"
          ]
        }
      ],
      "source": [
        "print(a)"
      ]
    },
    {
      "cell_type": "code",
      "execution_count": null,
      "metadata": {
        "id": "H5mmOjcPVY9I"
      },
      "outputs": [],
      "source": [
        "d=l1[6][2:4]"
      ]
    },
    {
      "cell_type": "code",
      "execution_count": null,
      "metadata": {
        "id": "DMmyn9iaV78l",
        "colab": {
          "base_uri": "https://localhost:8080/"
        },
        "outputId": "5816b3ff-9cee-4885-bdf8-bcc987d0ede3"
      },
      "outputs": [
        {
          "output_type": "stream",
          "name": "stdout",
          "text": [
            "['noida', 'gurgaon']\n"
          ]
        }
      ],
      "source": [
        "print(d)"
      ]
    },
    {
      "cell_type": "code",
      "execution_count": null,
      "metadata": {
        "id": "jpulVeqWV-PD"
      },
      "outputs": [],
      "source": [
        "c=l1[5]\n"
      ]
    },
    {
      "cell_type": "code",
      "execution_count": null,
      "metadata": {
        "id": "ecHed34oV_hx",
        "colab": {
          "base_uri": "https://localhost:8080/"
        },
        "outputId": "333388c6-1f1f-46c2-c3bf-14896a85725a"
      },
      "outputs": [
        {
          "output_type": "stream",
          "name": "stdout",
          "text": [
            "-55\n"
          ]
        }
      ],
      "source": [
        "print(c)"
      ]
    }
  ]
}