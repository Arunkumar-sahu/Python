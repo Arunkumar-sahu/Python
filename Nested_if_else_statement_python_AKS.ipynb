{
  "nbformat": 4,
  "nbformat_minor": 0,
  "metadata": {
    "colab": {
      "provenance": []
    },
    "kernelspec": {
      "name": "python3",
      "display_name": "Python 3"
    },
    "language_info": {
      "name": "python"
    }
  },
  "cells": [
    {
      "cell_type": "markdown",
      "metadata": {
        "id": "3h5vUBggmmAZ"
      },
      "source": [
        "**Nested if-else statement**"
      ]
    },
    {
      "cell_type": "code",
      "execution_count": null,
      "metadata": {
        "id": "qoASlvfom4IN",
        "colab": {
          "base_uri": "https://localhost:8080/"
        },
        "outputId": "407adcbe-8ee9-4186-e409-8168c968ea55"
      },
      "outputs": [
        {
          "output_type": "stream",
          "name": "stdout",
          "text": [
            "enter value of x28\n",
            "x is greater than 10 & greater than 20 also\n"
          ]
        }
      ],
      "source": [
        "x=int(input('enter value of x'))\n",
        "\n",
        "if x>10:\n",
        "\n",
        "  if x>20:\n",
        "    print('x is greater than 10 & greater than 20 also')\n",
        "\n",
        "  else:\n",
        "    print('x is greater than 10 but less than 20')\n",
        "\n",
        "\n",
        "else:\n",
        "  print('x is less than 10')"
      ]
    },
    {
      "cell_type": "code",
      "execution_count": null,
      "metadata": {
        "id": "DF3kqliznxMX",
        "colab": {
          "base_uri": "https://localhost:8080/"
        },
        "outputId": "519544e2-5e02-4245-ca8d-cd99089ce9c1"
      },
      "outputs": [
        {
          "output_type": "stream",
          "name": "stdout",
          "text": [
            "enter value of x16\n",
            "x is greater than 10 but less than 20\n"
          ]
        }
      ],
      "source": [
        "x=int(input('enter value of x'))\n",
        "\n",
        "if x>10:\n",
        "\n",
        "  if x>20:\n",
        "    print('x is greater than 10 & greater than 20 also')\n",
        "\n",
        "  else:\n",
        "    print('x is greater than 10 but less than 20')\n",
        "\n",
        "\n",
        "else:\n",
        "  print('x is less than 10')"
      ]
    },
    {
      "cell_type": "code",
      "execution_count": null,
      "metadata": {
        "id": "Y8kzPct1oIra",
        "colab": {
          "base_uri": "https://localhost:8080/"
        },
        "outputId": "aa4354f6-3666-49e8-9c7c-1eaa707a90a3"
      },
      "outputs": [
        {
          "output_type": "stream",
          "name": "stdout",
          "text": [
            "enter value of x6\n",
            "x is less than 10\n"
          ]
        }
      ],
      "source": [
        "x=int(input('enter value of x'))\n",
        "\n",
        "if x>10:\n",
        "\n",
        "  if x>20:\n",
        "    print('x is greater than 10 & greater than 20 also')\n",
        "\n",
        "  else:\n",
        "    print('x is greater than 10 but less than 20')\n",
        "\n",
        "\n",
        "else:\n",
        "  print('x is less than 10')"
      ]
    },
    {
      "cell_type": "markdown",
      "metadata": {
        "id": "se9LVD3hoxgL"
      },
      "source": [
        "Question:\n",
        "\n",
        "Take a number input from the user & check if the number is positive, negative or zero.(used nested statement)"
      ]
    },
    {
      "cell_type": "code",
      "source": [
        "num=int(input('enter a number'))\n",
        "\n",
        "if num>=0:\n",
        "\n",
        "  if num>0:\n",
        "   print('number is positive')\n",
        "\n",
        "  else:\n",
        "    print('number is zero')\n",
        "\n",
        "else:\n",
        "  print('number is negative')"
      ],
      "metadata": {
        "colab": {
          "base_uri": "https://localhost:8080/"
        },
        "id": "dGJlzheBl3Mv",
        "outputId": "af8b9e58-ccda-46c8-8d2e-ec9da2e6dc5e"
      },
      "execution_count": null,
      "outputs": [
        {
          "output_type": "stream",
          "name": "stdout",
          "text": [
            "enter a number985\n",
            "number is positive\n"
          ]
        }
      ]
    },
    {
      "cell_type": "code",
      "source": [
        "num=int(input('enter a number'))\n",
        "\n",
        "if num>=0:\n",
        "\n",
        "  if num>0:\n",
        "   print('number is positive')\n",
        "\n",
        "  else:\n",
        "    print('number is zero')\n",
        "\n",
        "else:\n",
        "  print('number is negative')"
      ],
      "metadata": {
        "colab": {
          "base_uri": "https://localhost:8080/"
        },
        "id": "21KeNVNOnPCK",
        "outputId": "2b3e58cf-844b-47b5-b9e5-1c3dc01135a2"
      },
      "execution_count": null,
      "outputs": [
        {
          "output_type": "stream",
          "name": "stdout",
          "text": [
            "enter a number0\n",
            "number is zero\n"
          ]
        }
      ]
    },
    {
      "cell_type": "code",
      "source": [
        "num=int(input('enter a number'))\n",
        "\n",
        "if num>=0:\n",
        "\n",
        "  if num>0:\n",
        "   print('number is positive')\n",
        "\n",
        "  else:\n",
        "    print('number is zero')\n",
        "\n",
        "else:\n",
        "  print('number is negative')"
      ],
      "metadata": {
        "colab": {
          "base_uri": "https://localhost:8080/"
        },
        "id": "y-ZOp1_MnWX6",
        "outputId": "866c2e54-cd9c-4808-99e3-7839d03c6f90"
      },
      "execution_count": null,
      "outputs": [
        {
          "output_type": "stream",
          "name": "stdout",
          "text": [
            "enter a number-521\n",
            "number is negative\n"
          ]
        }
      ]
    }
  ]
}