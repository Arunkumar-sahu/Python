{
  "nbformat": 4,
  "nbformat_minor": 0,
  "metadata": {
    "colab": {
      "provenance": []
    },
    "kernelspec": {
      "name": "python3",
      "display_name": "Python 3"
    },
    "language_info": {
      "name": "python"
    }
  },
  "cells": [
    {
      "cell_type": "markdown",
      "metadata": {
        "id": "qt1V4XF0LtZV"
      },
      "source": [
        "**Conditional statement Or Control flow**\n",
        "\n",
        "Example"
      ]
    },
    {
      "cell_type": "code",
      "execution_count": null,
      "metadata": {
        "id": "fdvwxtAZL4UK",
        "colab": {
          "base_uri": "https://localhost:8080/"
        },
        "outputId": "9680df2c-2636-424b-cba9-818d71059ce1"
      },
      "outputs": [
        {
          "output_type": "stream",
          "name": "stdout",
          "text": [
            "enter value of x15\n",
            "enter value of y20\n",
            "y is greater than x\n"
          ]
        }
      ],
      "source": [
        "x=int(input('enter value of x'))\n",
        "y=int(input('enter value of y'))\n",
        "\n",
        "if x>y:\n",
        "  print('x is greater than y')\n",
        "\n",
        "else:\n",
        "  print('y is greater than x')"
      ]
    },
    {
      "cell_type": "code",
      "execution_count": null,
      "metadata": {
        "id": "LMkehWgzM7tm",
        "colab": {
          "base_uri": "https://localhost:8080/"
        },
        "outputId": "3df14717-8e9d-41ac-c28a-063754c63fe9"
      },
      "outputs": [
        {
          "output_type": "stream",
          "name": "stdout",
          "text": [
            "enter value of x20\n",
            "enter value of y15\n",
            "x is greater than y\n"
          ]
        }
      ],
      "source": [
        "x=int(input('enter value of x'))\n",
        "y=int(input('enter value of y'))\n",
        "\n",
        "if x>y:\n",
        "  print('x is greater than y')\n",
        "\n",
        "else:\n",
        "  print('y is greater than x')"
      ]
    },
    {
      "cell_type": "markdown",
      "metadata": {
        "id": "NgRqqJrxNbJl"
      },
      "source": [
        "**Question no.1**\n",
        "\n",
        "In a fare, the entry ticket price for children less than 4 yearsof age is 0 INR, price for the children in the age 4-16 years is 100 INR & for people greater than 16 yearsof age, the price is 170 INR.\n",
        "\n",
        "Hint:- Take age as input from the user & display the ticket price of user."
      ]
    },
    {
      "cell_type": "code",
      "execution_count": null,
      "metadata": {
        "id": "zoWFAWQCNRWF",
        "colab": {
          "base_uri": "https://localhost:8080/"
        },
        "outputId": "991898f0-ca75-4a26-e562-b270fc5af323"
      },
      "outputs": [
        {
          "output_type": "stream",
          "name": "stdout",
          "text": [
            "enter you age3\n",
            "the ticket price will be 0 INR\n"
          ]
        }
      ],
      "source": [
        "age=int(input('enter you age'))\n",
        "\n",
        "if age<4:\n",
        "  print('the ticket price will be 0 INR')\n",
        "\n",
        "elif 4<=age<=16:\n",
        "  print('the ticket price will be 100 INR')\n",
        "\n",
        "else:\n",
        "  print('the ticket price will be 170 INR')"
      ]
    },
    {
      "cell_type": "code",
      "execution_count": null,
      "metadata": {
        "id": "tBW5L6INP-VZ",
        "colab": {
          "base_uri": "https://localhost:8080/"
        },
        "outputId": "c7367f03-4894-4e0c-c16a-e990d59453f4"
      },
      "outputs": [
        {
          "output_type": "stream",
          "name": "stdout",
          "text": [
            "enter you age16\n",
            "the ticket price will be 100 INR\n"
          ]
        }
      ],
      "source": [
        "age=int(input('enter you age'))\n",
        "\n",
        "if age<4:\n",
        "  print('the ticket price will be 0 INR')\n",
        "\n",
        "elif 4<=age<=16:\n",
        "  print('the ticket price will be 100 INR')\n",
        "\n",
        "else:\n",
        "  print('the ticket price will be 170 INR')"
      ]
    },
    {
      "cell_type": "code",
      "execution_count": null,
      "metadata": {
        "id": "XS9X6dHhQU0g",
        "colab": {
          "base_uri": "https://localhost:8080/"
        },
        "outputId": "2ec34c1b-6a61-4fd1-8c54-490e35db6bd6"
      },
      "outputs": [
        {
          "output_type": "stream",
          "name": "stdout",
          "text": [
            "enter you age28\n",
            "the ticket price will be 170 INR\n"
          ]
        }
      ],
      "source": [
        "age=int(input('enter you age'))\n",
        "\n",
        "if age<4:\n",
        "  print('the ticket price will be 0 INR')\n",
        "\n",
        "elif 4<=age<=16:\n",
        "  print('the ticket price will be 100 INR')\n",
        "\n",
        "else:\n",
        "  print('the ticket price will be 170 INR')"
      ]
    },
    {
      "cell_type": "markdown",
      "metadata": {
        "id": "4ZD5LHYdQta4"
      },
      "source": [
        "**Question no.2**\n",
        "\n",
        "Take a number as input from the use & check if the number is even or odd."
      ]
    },
    {
      "cell_type": "code",
      "execution_count": null,
      "metadata": {
        "id": "yKwKk2zeQdMD",
        "colab": {
          "base_uri": "https://localhost:8080/"
        },
        "outputId": "42c5cca5-bdec-453a-c6b2-005248d457c3"
      },
      "outputs": [
        {
          "output_type": "stream",
          "name": "stdout",
          "text": [
            "enter your number9\n",
            "odd number\n"
          ]
        }
      ],
      "source": [
        "number=int(input('enter your number'))\n",
        "\n",
        "if number%2==0:\n",
        "  print('even number')\n",
        "\n",
        "else:\n",
        "  print('odd number')"
      ]
    },
    {
      "cell_type": "code",
      "execution_count": null,
      "metadata": {
        "id": "Mk5xFWIeR5X3",
        "colab": {
          "base_uri": "https://localhost:8080/"
        },
        "outputId": "0ef4b316-832e-499e-fac2-7d329394074e"
      },
      "outputs": [
        {
          "output_type": "stream",
          "name": "stdout",
          "text": [
            "enter your number79978\n",
            "even number\n"
          ]
        }
      ],
      "source": [
        "number=int(input('enter your number'))\n",
        "\n",
        "if number%2==0:\n",
        "  print('even number')\n",
        "\n",
        "else:\n",
        "  print('odd number')"
      ]
    },
    {
      "cell_type": "markdown",
      "metadata": {
        "id": "uvHiDU1OUm8c"
      },
      "source": [
        "**Question no.3**\n",
        "\n",
        "Take length & breadth of a rectangle as input from the user & check if the rectangle is a square or not."
      ]
    },
    {
      "cell_type": "code",
      "execution_count": null,
      "metadata": {
        "id": "VOPTQFDEUjcB",
        "colab": {
          "base_uri": "https://localhost:8080/"
        },
        "outputId": "8f6ad642-69f0-4b99-d167-20fc3fa8cedf"
      },
      "outputs": [
        {
          "output_type": "stream",
          "name": "stdout",
          "text": [
            "enter your length9\n",
            "enter your breadth9\n",
            "square rectangle\n"
          ]
        }
      ],
      "source": [
        "len=int(input('enter your length'))\n",
        "bre=int(input('enter your breadth'))\n",
        "\n",
        "if len==bre:\n",
        "  print('square rectangle')\n",
        "\n",
        "else:\n",
        "  print('not a square rectangle')"
      ]
    },
    {
      "cell_type": "code",
      "execution_count": null,
      "metadata": {
        "id": "6f6pee24YazJ",
        "colab": {
          "base_uri": "https://localhost:8080/"
        },
        "outputId": "84e3cb34-9393-4e26-d721-1911e7480677"
      },
      "outputs": [
        {
          "output_type": "stream",
          "name": "stdout",
          "text": [
            "enter your length5\n",
            "enter your breadth7\n",
            "not a square rectangle\n"
          ]
        }
      ],
      "source": [
        "len=int(input('enter your length'))\n",
        "bre=int(input('enter your breadth'))\n",
        "\n",
        "if len==bre:\n",
        "  print('square rectangle')\n",
        "\n",
        "else:\n",
        "  print('not a square rectangle')"
      ]
    },
    {
      "cell_type": "markdown",
      "metadata": {
        "id": "wXBijaz_Y7wj"
      },
      "source": [
        "**Question no.4**\n",
        "\n",
        "The owner of a company decides to give 5% bonus to employees who have been working for his organisation for the past 5 years or more.\n",
        "\n",
        "Take a current salary & years of experience with the current organisation as input from the user & disply the incremented salary of the employee if any."
      ]
    },
    {
      "cell_type": "code",
      "execution_count": null,
      "metadata": {
        "id": "01VwKRkpYmJQ",
        "colab": {
          "base_uri": "https://localhost:8080/"
        },
        "outputId": "c962d54e-aefc-4e8e-abe5-1463fc4df747"
      },
      "outputs": [
        {
          "output_type": "stream",
          "name": "stdout",
          "text": [
            "enter your salary10000\n",
            "enter your working years5\n",
            "10500.0\n"
          ]
        }
      ],
      "source": [
        "salary=int(input('enter your salary'))\n",
        "years=int(input('enter your working years'))\n",
        "\n",
        "if years>=5:\n",
        "  print(salary+0.05*salary)\n",
        "\n",
        "else:\n",
        "  print('you are not eligble for increment')"
      ]
    },
    {
      "cell_type": "code",
      "execution_count": null,
      "metadata": {
        "id": "HGIu-OVRczCB",
        "colab": {
          "base_uri": "https://localhost:8080/"
        },
        "outputId": "3509fb61-deb2-415e-bde3-0c3d9736f00b"
      },
      "outputs": [
        {
          "output_type": "stream",
          "name": "stdout",
          "text": [
            "enter your salary10000\n",
            "enter your working years4\n",
            "you are not eligble for increment\n"
          ]
        }
      ],
      "source": [
        "salary=int(input('enter your salary'))\n",
        "years=int(input('enter your working years'))\n",
        "\n",
        "if years>=5:\n",
        "  print(salary+0.05*salary)\n",
        "\n",
        "else:\n",
        "  print('you are not eligble for increment')"
      ]
    },
    {
      "cell_type": "markdown",
      "metadata": {
        "id": "uUAtWgw4dysX"
      },
      "source": [
        "**Question no.5**\n",
        "\n",
        "A grocery store always discount of 20% on items purchased worth more than 2000 INR. considering price of each commodity to be 200 INR, calculate the discounted price to be paid at the end.\n",
        "\n",
        "'Take number of commodities purchased as input from user.'\n"
      ]
    },
    {
      "cell_type": "code",
      "execution_count": null,
      "metadata": {
        "id": "ppoMonEuddLe",
        "colab": {
          "base_uri": "https://localhost:8080/"
        },
        "outputId": "17ef2175-7dd9-4a08-94f3-6df687a3ee68"
      },
      "outputs": [
        {
          "output_type": "stream",
          "name": "stdout",
          "text": [
            "enter your number of items9\n",
            "your final price without discount 1800\n"
          ]
        }
      ],
      "source": [
        "items=int(input('enter your number of items'))\n",
        "price=200*items\n",
        "\n",
        "if price>2000:\n",
        "  print('your discounted price is', price-0.2*price)\n",
        "\n",
        "else:\n",
        "  print('your final price without discount', price)"
      ]
    },
    {
      "cell_type": "code",
      "execution_count": null,
      "metadata": {
        "id": "VG6U7LOJiBMD",
        "colab": {
          "base_uri": "https://localhost:8080/"
        },
        "outputId": "071fca07-5f55-493a-8e69-2389408c68d1"
      },
      "outputs": [
        {
          "output_type": "stream",
          "name": "stdout",
          "text": [
            "enter your number of items17\n",
            "your discounted price is 2720.0\n"
          ]
        }
      ],
      "source": [
        "items=int(input('enter your number of items'))\n",
        "price=200*items\n",
        "\n",
        "if price>2000:\n",
        "  print('your discounted price is', price-0.2*price)\n",
        "\n",
        "else:\n",
        "  print('your final price without discount', price)"
      ]
    }
  ]
}