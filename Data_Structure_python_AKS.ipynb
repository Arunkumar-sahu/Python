{
  "nbformat": 4,
  "nbformat_minor": 0,
  "metadata": {
    "colab": {
      "provenance": []
    },
    "kernelspec": {
      "name": "python3",
      "display_name": "Python 3"
    },
    "language_info": {
      "name": "python"
    }
  },
  "cells": [
    {
      "cell_type": "markdown",
      "metadata": {
        "id": "lHMG5s1OGLy_"
      },
      "source": [
        "**Dictionary**\n"
      ]
    },
    {
      "cell_type": "code",
      "execution_count": null,
      "metadata": {
        "id": "8fLYxtjFDxa-"
      },
      "outputs": [],
      "source": [
        "memo={'chips':20,'notebook':90,'pens':100,'coldrink':120}"
      ]
    },
    {
      "cell_type": "code",
      "execution_count": null,
      "metadata": {
        "id": "QjV0ZzDEKIpk",
        "colab": {
          "base_uri": "https://localhost:8080/"
        },
        "outputId": "952ec1f0-db2c-4a8d-ff07-a93e849f3dc3"
      },
      "outputs": [
        {
          "output_type": "stream",
          "name": "stdout",
          "text": [
            "{'chips': 20, 'notebook': 90, 'pens': 100, 'coldrink': 120}\n"
          ]
        }
      ],
      "source": [
        "print(memo)"
      ]
    },
    {
      "cell_type": "code",
      "execution_count": null,
      "metadata": {
        "id": "vbBajksDKMBH",
        "colab": {
          "base_uri": "https://localhost:8080/"
        },
        "outputId": "7023b844-b4ff-404f-c6ca-9cf64f8df602"
      },
      "outputs": [
        {
          "output_type": "execute_result",
          "data": {
            "text/plain": [
              "dict"
            ]
          },
          "metadata": {},
          "execution_count": 124
        }
      ],
      "source": [
        "type(memo)"
      ]
    },
    {
      "cell_type": "code",
      "execution_count": null,
      "metadata": {
        "id": "g4tmcxPhKL96",
        "colab": {
          "base_uri": "https://localhost:8080/"
        },
        "outputId": "aa30ab35-a1d6-47cd-9b73-f58930e67564"
      },
      "outputs": [
        {
          "output_type": "execute_result",
          "data": {
            "text/plain": [
              "100"
            ]
          },
          "metadata": {},
          "execution_count": 125
        }
      ],
      "source": [
        "memo['pens']"
      ]
    },
    {
      "cell_type": "code",
      "execution_count": null,
      "metadata": {
        "id": "48Xg62nCKL7Q",
        "colab": {
          "base_uri": "https://localhost:8080/"
        },
        "outputId": "8fcd5dea-9096-4ce2-fb82-42c973f1c685"
      },
      "outputs": [
        {
          "output_type": "execute_result",
          "data": {
            "text/plain": [
              "20"
            ]
          },
          "metadata": {},
          "execution_count": 126
        }
      ],
      "source": [
        "memo['chips']"
      ]
    },
    {
      "cell_type": "code",
      "execution_count": null,
      "metadata": {
        "id": "PifVxAnCG0OJ"
      },
      "outputs": [],
      "source": [
        "memo['ice cream']=80"
      ]
    },
    {
      "cell_type": "code",
      "execution_count": null,
      "metadata": {
        "id": "kAUYwbzrHlcM",
        "colab": {
          "base_uri": "https://localhost:8080/"
        },
        "outputId": "4a5ef47c-6742-4341-adad-f297544d7f77"
      },
      "outputs": [
        {
          "output_type": "stream",
          "name": "stdout",
          "text": [
            "{'chips': 20, 'notebook': 90, 'pens': 100, 'coldrink': 120, 'ice cream': 80}\n"
          ]
        }
      ],
      "source": [
        "print(memo)"
      ]
    },
    {
      "cell_type": "code",
      "execution_count": null,
      "metadata": {
        "id": "Ka6h9U1KHo2u"
      },
      "outputs": [],
      "source": [
        "memo['bread']=40"
      ]
    },
    {
      "cell_type": "code",
      "execution_count": null,
      "metadata": {
        "id": "BCAO1JIyJRu9",
        "colab": {
          "base_uri": "https://localhost:8080/"
        },
        "outputId": "b3d739e8-459b-420d-af74-6e26dccb9c30"
      },
      "outputs": [
        {
          "output_type": "stream",
          "name": "stdout",
          "text": [
            "{'chips': 20, 'notebook': 90, 'pens': 100, 'coldrink': 120, 'ice cream': 80, 'bread': 40}\n"
          ]
        }
      ],
      "source": [
        "print(memo)"
      ]
    },
    {
      "cell_type": "code",
      "execution_count": null,
      "metadata": {
        "id": "bSEOkTYJJVhi"
      },
      "outputs": [],
      "source": [
        "#modifying existing values in a dict\n",
        "memo['coldrink']=70"
      ]
    },
    {
      "cell_type": "code",
      "execution_count": null,
      "metadata": {
        "id": "IYRSdWScMF-P",
        "colab": {
          "base_uri": "https://localhost:8080/"
        },
        "outputId": "6e36b2c5-ff60-4ac3-a3fa-574a57a78099"
      },
      "outputs": [
        {
          "output_type": "stream",
          "name": "stdout",
          "text": [
            "{'chips': 20, 'notebook': 90, 'pens': 100, 'coldrink': 70, 'ice cream': 80, 'bread': 40}\n"
          ]
        }
      ],
      "source": [
        "print(memo)"
      ]
    },
    {
      "cell_type": "code",
      "execution_count": null,
      "metadata": {
        "id": "uXYmivZKMpD4"
      },
      "outputs": [],
      "source": [
        "memo['notebook']=140"
      ]
    },
    {
      "cell_type": "code",
      "execution_count": null,
      "metadata": {
        "id": "CEpwCVyhNoA4",
        "colab": {
          "base_uri": "https://localhost:8080/"
        },
        "outputId": "f58a7b99-a03f-4955-883f-6e0c46f19876"
      },
      "outputs": [
        {
          "output_type": "stream",
          "name": "stdout",
          "text": [
            "{'chips': 20, 'notebook': 140, 'pens': 100, 'coldrink': 70, 'ice cream': 80, 'bread': 40}\n"
          ]
        }
      ],
      "source": [
        "print(memo)"
      ]
    },
    {
      "cell_type": "code",
      "execution_count": null,
      "metadata": {
        "id": "Dd91rxKcNqYh"
      },
      "outputs": [],
      "source": [
        "del memo['notebook']"
      ]
    },
    {
      "cell_type": "code",
      "execution_count": null,
      "metadata": {
        "id": "Ljf7yJM9OEfw",
        "colab": {
          "base_uri": "https://localhost:8080/"
        },
        "outputId": "dae8d9da-b603-410e-b884-ea506f06ce58"
      },
      "outputs": [
        {
          "output_type": "stream",
          "name": "stdout",
          "text": [
            "{'chips': 20, 'pens': 100, 'coldrink': 70, 'ice cream': 80, 'bread': 40}\n"
          ]
        }
      ],
      "source": [
        "print(memo)"
      ]
    },
    {
      "cell_type": "markdown",
      "metadata": {
        "id": "1hND2b98UmMY"
      },
      "source": [
        "**QUESTION**"
      ]
    },
    {
      "cell_type": "code",
      "execution_count": null,
      "metadata": {
        "id": "WcIYKapHUsQF"
      },
      "outputs": [],
      "source": [
        "student={1:'aditya',2:'chirag',3:'kunnal',4:'zoya'}"
      ]
    },
    {
      "cell_type": "code",
      "execution_count": null,
      "metadata": {
        "id": "qJUFbrgnWYtU",
        "colab": {
          "base_uri": "https://localhost:8080/"
        },
        "outputId": "4aa2108d-8292-4594-ad34-74c9c9c4a381"
      },
      "outputs": [
        {
          "output_type": "stream",
          "name": "stdout",
          "text": [
            "{1: 'aditya', 2: 'chirag', 3: 'kunnal', 4: 'zoya'}\n"
          ]
        }
      ],
      "source": [
        "print(student)"
      ]
    },
    {
      "cell_type": "code",
      "execution_count": null,
      "metadata": {
        "id": "wyppRH2nWYQL"
      },
      "outputs": [],
      "source": [
        "student[4]='zareen'"
      ]
    },
    {
      "cell_type": "code",
      "execution_count": null,
      "metadata": {
        "id": "lcT8yQ5QWYMx",
        "colab": {
          "base_uri": "https://localhost:8080/"
        },
        "outputId": "ae5a8ef2-2f5e-4401-b486-4210009ac4c2"
      },
      "outputs": [
        {
          "output_type": "stream",
          "name": "stdout",
          "text": [
            "{1: 'aditya', 2: 'chirag', 3: 'kunnal', 4: 'zareen'}\n"
          ]
        }
      ],
      "source": [
        "print(student)"
      ]
    },
    {
      "cell_type": "code",
      "execution_count": null,
      "metadata": {
        "id": "pOeTjmVbWvbF"
      },
      "outputs": [],
      "source": [
        "student[5]='meera'"
      ]
    },
    {
      "cell_type": "code",
      "execution_count": null,
      "metadata": {
        "id": "Rthq0JVRW2Al",
        "colab": {
          "base_uri": "https://localhost:8080/"
        },
        "outputId": "8af1da70-265a-412e-c778-594ad9b80f02"
      },
      "outputs": [
        {
          "output_type": "stream",
          "name": "stdout",
          "text": [
            "{1: 'aditya', 2: 'chirag', 3: 'kunnal', 4: 'zareen', 5: 'meera'}\n"
          ]
        }
      ],
      "source": [
        "print(student)"
      ]
    },
    {
      "cell_type": "markdown",
      "metadata": {
        "id": "h57jPXsfRvuR"
      },
      "source": [
        "**Tuple**"
      ]
    },
    {
      "cell_type": "code",
      "execution_count": null,
      "metadata": {
        "id": "LR7QM7-hRzdD"
      },
      "outputs": [],
      "source": [
        "a=('india','usa',80,200,-451,-45.98,-9.8)"
      ]
    },
    {
      "cell_type": "code",
      "execution_count": null,
      "metadata": {
        "id": "o4do4bvITz03",
        "colab": {
          "base_uri": "https://localhost:8080/"
        },
        "outputId": "2f8a36a0-166a-4c46-b48f-c8133414ea3e"
      },
      "outputs": [
        {
          "output_type": "execute_result",
          "data": {
            "text/plain": [
              "tuple"
            ]
          },
          "metadata": {},
          "execution_count": 144
        }
      ],
      "source": [
        "type(a)"
      ]
    },
    {
      "cell_type": "code",
      "execution_count": null,
      "metadata": {
        "id": "rAOZB6tTT2J-",
        "colab": {
          "base_uri": "https://localhost:8080/",
          "height": 35
        },
        "outputId": "a677191f-ebe4-4b02-ea89-ccda4b6955c6"
      },
      "outputs": [
        {
          "output_type": "execute_result",
          "data": {
            "text/plain": [
              "'usa'"
            ],
            "application/vnd.google.colaboratory.intrinsic+json": {
              "type": "string"
            }
          },
          "metadata": {},
          "execution_count": 145
        }
      ],
      "source": [
        "a[1]"
      ]
    },
    {
      "cell_type": "code",
      "execution_count": null,
      "metadata": {
        "id": "BfMQJQXcT67y",
        "colab": {
          "base_uri": "https://localhost:8080/"
        },
        "outputId": "105fa7bf-af37-4a13-da92-e9d4e6e4ca73"
      },
      "outputs": [
        {
          "output_type": "execute_result",
          "data": {
            "text/plain": [
              "-45.98"
            ]
          },
          "metadata": {},
          "execution_count": 146
        }
      ],
      "source": [
        "a[5]"
      ]
    },
    {
      "cell_type": "code",
      "execution_count": null,
      "metadata": {
        "id": "eSn8Tsx-T9xA",
        "colab": {
          "base_uri": "https://localhost:8080/"
        },
        "outputId": "6b181ab7-39ae-4ac1-d9f8-97d385d3961d"
      },
      "outputs": [
        {
          "output_type": "execute_result",
          "data": {
            "text/plain": [
              "('india', 'usa', 80)"
            ]
          },
          "metadata": {},
          "execution_count": 147
        }
      ],
      "source": [
        "a[0:3]"
      ]
    },
    {
      "cell_type": "code",
      "execution_count": null,
      "metadata": {
        "id": "U31kWWaPUBFO",
        "colab": {
          "base_uri": "https://localhost:8080/"
        },
        "outputId": "5fb50e29-da21-4572-fdd2-a888b01bc60d"
      },
      "outputs": [
        {
          "output_type": "execute_result",
          "data": {
            "text/plain": [
              "(-451, -45.98)"
            ]
          },
          "metadata": {},
          "execution_count": 148
        }
      ],
      "source": [
        "a[4:6]"
      ]
    },
    {
      "cell_type": "markdown",
      "metadata": {
        "id": "4htjmq5KYELv"
      },
      "source": [
        "**Sets**"
      ]
    },
    {
      "cell_type": "code",
      "execution_count": null,
      "metadata": {
        "id": "LzHGsMqRYLd9"
      },
      "outputs": [],
      "source": [
        "a={'india','usa',80,200,-451,-45.98,-9.8}"
      ]
    },
    {
      "cell_type": "code",
      "execution_count": null,
      "metadata": {
        "id": "gFvJYOt7YUUo",
        "colab": {
          "base_uri": "https://localhost:8080/"
        },
        "outputId": "66faaeee-d259-4143-838e-b1345fa8696d"
      },
      "outputs": [
        {
          "output_type": "execute_result",
          "data": {
            "text/plain": [
              "set"
            ]
          },
          "metadata": {},
          "execution_count": 155
        }
      ],
      "source": [
        "type(a)"
      ]
    },
    {
      "cell_type": "code",
      "execution_count": null,
      "metadata": {
        "id": "gNaNJBBdYaey",
        "colab": {
          "base_uri": "https://localhost:8080/"
        },
        "outputId": "d1e028fa-6142-4089-df1e-8f907a2d20bc"
      },
      "outputs": [
        {
          "output_type": "stream",
          "name": "stdout",
          "text": [
            "{80, -45.98, 'india', -9.8, 'usa', -451, 200}\n"
          ]
        }
      ],
      "source": [
        "print(a) #random inner shuffling"
      ]
    }
  ]
}