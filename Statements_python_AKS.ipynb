{
  "nbformat": 4,
  "nbformat_minor": 0,
  "metadata": {
    "colab": {
      "provenance": []
    },
    "kernelspec": {
      "name": "python3",
      "display_name": "Python 3"
    },
    "language_info": {
      "name": "python"
    }
  },
  "cells": [
    {
      "cell_type": "markdown",
      "source": [
        "**Statements**\n",
        "\n",
        "1.pass\n",
        "\n",
        "2.Break\n",
        "\n",
        "3.Continue"
      ],
      "metadata": {
        "id": "yQlICCvZQwzj"
      }
    },
    {
      "cell_type": "code",
      "source": [
        "#PASS - it makes a particular segment of the code inactive.\n",
        "x=int(input('enter a number'))\n",
        "y=int(input('enter a number'))\n",
        "\n",
        "if x>y:\n",
        "  print('x is greater')\n",
        "\n",
        "else:\n",
        "  pass"
      ],
      "metadata": {
        "colab": {
          "base_uri": "https://localhost:8080/"
        },
        "id": "AJv-5su7Q4CL",
        "outputId": "7f2bdea7-a041-4460-f307-d178ded896b9"
      },
      "execution_count": null,
      "outputs": [
        {
          "name": "stdout",
          "output_type": "stream",
          "text": [
            "enter a number5\n",
            "enter a number10\n"
          ]
        }
      ]
    },
    {
      "cell_type": "code",
      "source": [
        "x=int(input('enter a number'))\n",
        "y=int(input('enter a number'))\n",
        "\n",
        "if x>y:\n",
        "  pass\n",
        "\n",
        "else:\n",
        "  print('y is greater')"
      ],
      "metadata": {
        "colab": {
          "base_uri": "https://localhost:8080/"
        },
        "id": "DFTsvCidT6-8",
        "outputId": "0123cc5d-a9ff-4cd2-993a-49658b616e33"
      },
      "execution_count": null,
      "outputs": [
        {
          "name": "stdout",
          "output_type": "stream",
          "text": [
            "enter a number5\n",
            "enter a number3\n"
          ]
        }
      ]
    },
    {
      "cell_type": "markdown",
      "source": [
        "fetch only odd number in the given list using pass statement."
      ],
      "metadata": {
        "id": "IjuUyGA_VAPG"
      }
    },
    {
      "cell_type": "code",
      "source": [
        "l1=[2,3,4,5,6,7,9,11,12,14,15]\n",
        "\n",
        "for i in l1:\n",
        " if i%2==0:\n",
        "   pass\n",
        "\n",
        " else:\n",
        "   print(i)"
      ],
      "metadata": {
        "colab": {
          "base_uri": "https://localhost:8080/"
        },
        "id": "JFuLaGwhUN7Y",
        "outputId": "f754935e-513f-4e48-fd10-7a64639b1b34"
      },
      "execution_count": null,
      "outputs": [
        {
          "output_type": "stream",
          "name": "stdout",
          "text": [
            "3\n",
            "5\n",
            "7\n",
            "9\n",
            "11\n",
            "15\n"
          ]
        }
      ]
    },
    {
      "cell_type": "code",
      "source": [
        "#BREAK - forcebly come out of the loop.\n",
        "fruits=['apple','banana','mango','kivi','grapes']\n",
        "\n",
        "for i in fruits:\n",
        "  if i=='mango':\n",
        "    break\n",
        "  print(i)"
      ],
      "metadata": {
        "colab": {
          "base_uri": "https://localhost:8080/"
        },
        "id": "3Kwk_eOqVKrT",
        "outputId": "187b4e67-3596-4e29-b74d-f08027ad2d0c"
      },
      "execution_count": null,
      "outputs": [
        {
          "output_type": "stream",
          "name": "stdout",
          "text": [
            "apple\n",
            "banana\n"
          ]
        }
      ]
    },
    {
      "cell_type": "code",
      "source": [
        "name='washington'\n",
        "\n",
        "for i in name:\n",
        "  if i=='t':\n",
        "    break\n",
        "  print(i,end='')"
      ],
      "metadata": {
        "colab": {
          "base_uri": "https://localhost:8080/"
        },
        "id": "dQu1YTcWWH42",
        "outputId": "ef64404c-572b-4aaf-e1bc-2224a27e6860"
      },
      "execution_count": null,
      "outputs": [
        {
          "output_type": "stream",
          "name": "stdout",
          "text": [
            "washing"
          ]
        }
      ]
    },
    {
      "cell_type": "code",
      "source": [
        "name='cuttack' (# break will stop from the 1st instence of given list)\n",
        "\n",
        "for i in name:\n",
        "  if i=='t':\n",
        "    break\n",
        "  print(i)"
      ],
      "metadata": {
        "colab": {
          "base_uri": "https://localhost:8080/"
        },
        "id": "wdUBrobaWjfp",
        "outputId": "771d04d8-fcca-4b22-85ed-3e9d2596edb3"
      },
      "execution_count": null,
      "outputs": [
        {
          "output_type": "stream",
          "name": "stdout",
          "text": [
            "c\n",
            "u\n"
          ]
        }
      ]
    },
    {
      "cell_type": "code",
      "source": [
        "#CONTINUE - skip the mention element in the satisfied condition.\n",
        "fruits=['apple','banana','mango','kivi','grapes']\n",
        "\n",
        "for i in fruits:\n",
        "  if i=='mango':\n",
        "    continue\n",
        "  print(i)"
      ],
      "metadata": {
        "colab": {
          "base_uri": "https://localhost:8080/"
        },
        "id": "oR76jy4wW4Xy",
        "outputId": "88fcfd31-5d75-4b77-b2e8-8b9ae32f0634"
      },
      "execution_count": null,
      "outputs": [
        {
          "output_type": "stream",
          "name": "stdout",
          "text": [
            "apple\n",
            "banana\n",
            "kivi\n",
            "grapes\n"
          ]
        }
      ]
    },
    {
      "cell_type": "code",
      "source": [
        "name='washington'\n",
        "\n",
        "for i in name:\n",
        "  if i=='t':\n",
        "    continue\n",
        "  print(i,end='')"
      ],
      "metadata": {
        "colab": {
          "base_uri": "https://localhost:8080/"
        },
        "id": "YSBOBI20Xofw",
        "outputId": "4ca48cee-0313-4ca3-de17-afde1409e17e"
      },
      "execution_count": null,
      "outputs": [
        {
          "output_type": "stream",
          "name": "stdout",
          "text": [
            "washingon"
          ]
        }
      ]
    },
    {
      "cell_type": "code",
      "source": [
        "name='cuttack'\n",
        "\n",
        "for i in name:\n",
        "  if i=='t':\n",
        "    continue\n",
        "  print(i,end='')"
      ],
      "metadata": {
        "colab": {
          "base_uri": "https://localhost:8080/"
        },
        "id": "eouWHCEXXzw9",
        "outputId": "a339ddd7-fe6f-44c5-e72b-591b8bfd23b6"
      },
      "execution_count": null,
      "outputs": [
        {
          "output_type": "stream",
          "name": "stdout",
          "text": [
            "cuack"
          ]
        }
      ]
    },
    {
      "cell_type": "markdown",
      "source": [
        "display all the numbers between 1-10 except 3 & 6 & 8"
      ],
      "metadata": {
        "id": "rsH6CkGFZtES"
      }
    },
    {
      "cell_type": "code",
      "source": [
        "for i in range(1,11):\n",
        "\n",
        "  if i==3 or i==6 or i==8:\n",
        "   continue\n",
        "\n",
        "  print(i)"
      ],
      "metadata": {
        "colab": {
          "base_uri": "https://localhost:8080/"
        },
        "id": "D5BCnNaSaHqP",
        "outputId": "e8831d16-39c1-426d-ff47-0e8e007b8e71"
      },
      "execution_count": null,
      "outputs": [
        {
          "output_type": "stream",
          "name": "stdout",
          "text": [
            "1\n",
            "2\n",
            "4\n",
            "5\n",
            "7\n",
            "9\n",
            "10\n"
          ]
        }
      ]
    }
  ]
}