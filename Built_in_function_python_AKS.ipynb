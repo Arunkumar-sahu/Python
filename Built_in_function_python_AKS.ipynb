{
  "nbformat": 4,
  "nbformat_minor": 0,
  "metadata": {
    "colab": {
      "provenance": []
    },
    "kernelspec": {
      "name": "python3",
      "display_name": "Python 3"
    },
    "language_info": {
      "name": "python"
    }
  },
  "cells": [
    {
      "cell_type": "markdown",
      "metadata": {
        "id": "sALAyLJeeVQI"
      },
      "source": [
        "**Built-in function**"
      ]
    },
    {
      "cell_type": "code",
      "execution_count": null,
      "metadata": {
        "id": "xSd3_xwaYy9M"
      },
      "outputs": [],
      "source": [
        "l1=['ai','python','nlp','cv','r']"
      ]
    },
    {
      "cell_type": "code",
      "execution_count": null,
      "metadata": {
        "id": "4MX_Xn07ZjOF"
      },
      "outputs": [],
      "source": [
        "l1.append('machine learning') #will add the element at the end of the list"
      ]
    },
    {
      "cell_type": "code",
      "execution_count": null,
      "metadata": {
        "id": "EHO4Qx_tZvYN",
        "colab": {
          "base_uri": "https://localhost:8080/"
        },
        "outputId": "8a9b51b0-0822-4f2c-c6ab-eaa09db09453"
      },
      "outputs": [
        {
          "output_type": "stream",
          "name": "stdout",
          "text": [
            "['ai', 'python', 'nlp', 'cv', 'r', 'machine learning']\n"
          ]
        }
      ],
      "source": [
        "print(l1)"
      ]
    },
    {
      "cell_type": "code",
      "execution_count": null,
      "metadata": {
        "id": "38GWgVWOZ6Lx"
      },
      "outputs": [],
      "source": [
        "l1.insert(0, 'nlp') #will add the element at the given location [index number]"
      ]
    },
    {
      "cell_type": "code",
      "execution_count": null,
      "metadata": {
        "id": "UQ5_C3CPaGUE",
        "colab": {
          "base_uri": "https://localhost:8080/"
        },
        "outputId": "4411dbce-ce88-4522-812c-c1795266149e"
      },
      "outputs": [
        {
          "output_type": "stream",
          "name": "stdout",
          "text": [
            "['nlp', 'ai', 'python', 'nlp', 'cv', 'r', 'machine learning']\n"
          ]
        }
      ],
      "source": [
        "print(l1)"
      ]
    },
    {
      "cell_type": "code",
      "execution_count": null,
      "metadata": {
        "id": "LfUd7VwNaIP2"
      },
      "outputs": [],
      "source": [
        "l1.remove('nlp') #will delete the first occurance of the element"
      ]
    },
    {
      "cell_type": "code",
      "execution_count": null,
      "metadata": {
        "id": "oz7yZaVba1lb",
        "colab": {
          "base_uri": "https://localhost:8080/"
        },
        "outputId": "4f4193dd-e0ed-4bff-f796-35fcf070258c"
      },
      "outputs": [
        {
          "output_type": "stream",
          "name": "stdout",
          "text": [
            "['ai', 'python', 'nlp', 'cv', 'r', 'machine learning']\n"
          ]
        }
      ],
      "source": [
        "print(l1)"
      ]
    },
    {
      "cell_type": "code",
      "execution_count": null,
      "metadata": {
        "id": "z9k5E_tXa3dy",
        "colab": {
          "base_uri": "https://localhost:8080/",
          "height": 35
        },
        "outputId": "0ffde0fd-dcdf-4e3e-84a0-d92cee92ff4d"
      },
      "outputs": [
        {
          "output_type": "execute_result",
          "data": {
            "text/plain": [
              "'r'"
            ],
            "application/vnd.google.colaboratory.intrinsic+json": {
              "type": "string"
            }
          },
          "metadata": {},
          "execution_count": 91
        }
      ],
      "source": [
        "l1.pop(4) #will delete the elementof the given index number"
      ]
    },
    {
      "cell_type": "code",
      "execution_count": null,
      "metadata": {
        "id": "KeQcdZECa8uH",
        "colab": {
          "base_uri": "https://localhost:8080/"
        },
        "outputId": "0bca2865-d3e6-4312-cc44-b88c15ab2fc2"
      },
      "outputs": [
        {
          "output_type": "stream",
          "name": "stdout",
          "text": [
            "['ai', 'python', 'nlp', 'cv', 'machine learning']\n"
          ]
        }
      ],
      "source": [
        "print(l1)"
      ]
    },
    {
      "cell_type": "code",
      "execution_count": null,
      "metadata": {
        "id": "KxTPEVpOa_hI",
        "colab": {
          "base_uri": "https://localhost:8080/",
          "height": 35
        },
        "outputId": "5173f64d-aaca-4dc4-fa06-3cf7fb549df4"
      },
      "outputs": [
        {
          "output_type": "execute_result",
          "data": {
            "text/plain": [
              "'python'"
            ],
            "application/vnd.google.colaboratory.intrinsic+json": {
              "type": "string"
            }
          },
          "metadata": {},
          "execution_count": 93
        }
      ],
      "source": [
        "l1.pop(1)"
      ]
    },
    {
      "cell_type": "code",
      "execution_count": null,
      "metadata": {
        "id": "WTGkkJxybSCr",
        "colab": {
          "base_uri": "https://localhost:8080/"
        },
        "outputId": "91aca689-f3d9-4e82-83d5-bd8cef50ec8d"
      },
      "outputs": [
        {
          "output_type": "stream",
          "name": "stdout",
          "text": [
            "['ai', 'nlp', 'cv', 'machine learning']\n"
          ]
        }
      ],
      "source": [
        "print(l1)"
      ]
    },
    {
      "cell_type": "code",
      "execution_count": null,
      "metadata": {
        "id": "OVba4c2ibTZK"
      },
      "outputs": [],
      "source": [
        "l1.extend(['deep learning','tableau','statistics']) #will add multiple element at the end of the list(just like append)"
      ]
    },
    {
      "cell_type": "code",
      "execution_count": null,
      "metadata": {
        "id": "68hI5kw2bwTh",
        "colab": {
          "base_uri": "https://localhost:8080/"
        },
        "outputId": "a78a284c-537f-403b-8671-b16556aad431"
      },
      "outputs": [
        {
          "output_type": "stream",
          "name": "stdout",
          "text": [
            "['ai', 'nlp', 'cv', 'machine learning', 'deep learning', 'tableau', 'statistics']\n"
          ]
        }
      ],
      "source": [
        "print(l1)"
      ]
    },
    {
      "cell_type": "code",
      "execution_count": null,
      "metadata": {
        "id": "4ea3HZPMbyhP"
      },
      "outputs": [],
      "source": [
        "l1.insert(1,['julia','c#','ruby'])"
      ]
    },
    {
      "cell_type": "code",
      "execution_count": null,
      "metadata": {
        "id": "Ihlwav5wcb-W",
        "colab": {
          "base_uri": "https://localhost:8080/"
        },
        "outputId": "69eb6f3c-e901-4cc2-cee5-fba5a52cd38e"
      },
      "outputs": [
        {
          "output_type": "stream",
          "name": "stdout",
          "text": [
            "['ai', ['julia', 'c#', 'ruby'], 'nlp', 'cv', 'machine learning', 'deep learning', 'tableau', 'statistics']\n"
          ]
        }
      ],
      "source": [
        "print(l1)"
      ]
    },
    {
      "cell_type": "code",
      "execution_count": null,
      "metadata": {
        "id": "DW5a9vq1ceMp"
      },
      "outputs": [],
      "source": [
        "#['c#', 'ruby']"
      ]
    },
    {
      "cell_type": "code",
      "execution_count": null,
      "metadata": {
        "id": "2QUDc9GfdPOQ",
        "colab": {
          "base_uri": "https://localhost:8080/"
        },
        "outputId": "66bfbea6-0722-40ad-980a-32b3fe4356d3"
      },
      "outputs": [
        {
          "output_type": "execute_result",
          "data": {
            "text/plain": [
              "['c#', 'ruby']"
            ]
          },
          "metadata": {},
          "execution_count": 100
        }
      ],
      "source": [
        "l1[1][1:3]"
      ]
    },
    {
      "cell_type": "code",
      "execution_count": null,
      "metadata": {
        "id": "mtKnoXZwdVWU",
        "colab": {
          "base_uri": "https://localhost:8080/"
        },
        "outputId": "202faefe-4167-47fe-dca1-fc69395c1ac0"
      },
      "outputs": [
        {
          "output_type": "execute_result",
          "data": {
            "text/plain": [
              "['c#', 'ruby']"
            ]
          },
          "metadata": {},
          "execution_count": 101
        }
      ],
      "source": [
        "l1[1][1:]"
      ]
    },
    {
      "cell_type": "code",
      "execution_count": null,
      "metadata": {
        "id": "zETKO4Bodbmw",
        "colab": {
          "base_uri": "https://localhost:8080/"
        },
        "outputId": "db483137-ad26-4126-c7b0-722c379e2378"
      },
      "outputs": [
        {
          "output_type": "execute_result",
          "data": {
            "text/plain": [
              "['julia', 'c#', 'ruby']"
            ]
          },
          "metadata": {},
          "execution_count": 102
        }
      ],
      "source": [
        "l1.pop(1)"
      ]
    },
    {
      "cell_type": "code",
      "execution_count": null,
      "metadata": {
        "id": "7zFfzdxLd0Wd",
        "colab": {
          "base_uri": "https://localhost:8080/"
        },
        "outputId": "1e5f8e82-b572-45e4-9981-7793c0218e3d"
      },
      "outputs": [
        {
          "output_type": "stream",
          "name": "stdout",
          "text": [
            "['ai', 'nlp', 'cv', 'machine learning', 'deep learning', 'tableau', 'statistics']\n"
          ]
        }
      ],
      "source": [
        "print(l1)"
      ]
    },
    {
      "cell_type": "code",
      "execution_count": null,
      "metadata": {
        "id": "bUEhsxxod3H2",
        "colab": {
          "base_uri": "https://localhost:8080/"
        },
        "outputId": "b4e8798f-773f-4d27-aaa3-1cecffc46e97"
      },
      "outputs": [
        {
          "output_type": "execute_result",
          "data": {
            "text/plain": [
              "7"
            ]
          },
          "metadata": {},
          "execution_count": 104
        }
      ],
      "source": [
        "len(l1) #will show the total number element in the list"
      ]
    },
    {
      "cell_type": "code",
      "execution_count": null,
      "metadata": {
        "id": "5alAvsiyeJSK"
      },
      "outputs": [],
      "source": [
        "l2=[3,4,5,2,6,3,9,3,4,2,3,4,2,1,9,8,7,3,5,9]"
      ]
    },
    {
      "cell_type": "code",
      "execution_count": null,
      "metadata": {
        "id": "4QqXF3wleyI3",
        "colab": {
          "base_uri": "https://localhost:8080/"
        },
        "outputId": "7e87adcf-fcd1-46d9-b46d-31cda9279172"
      },
      "outputs": [
        {
          "output_type": "execute_result",
          "data": {
            "text/plain": [
              "9"
            ]
          },
          "metadata": {},
          "execution_count": 106
        }
      ],
      "source": [
        "max(l2) #will fetch the largest element from list"
      ]
    },
    {
      "cell_type": "code",
      "execution_count": null,
      "metadata": {
        "id": "bIjPc0jAe0jI",
        "colab": {
          "base_uri": "https://localhost:8080/"
        },
        "outputId": "f356e5b9-711f-431c-dc81-ce1ce2a35fba"
      },
      "outputs": [
        {
          "output_type": "execute_result",
          "data": {
            "text/plain": [
              "1"
            ]
          },
          "metadata": {},
          "execution_count": 107
        }
      ],
      "source": [
        "min(l2) #will fetch the smallest element from list"
      ]
    },
    {
      "cell_type": "code",
      "execution_count": null,
      "metadata": {
        "id": "d0uYARO7e8Bp",
        "colab": {
          "base_uri": "https://localhost:8080/"
        },
        "outputId": "3a40ec52-103b-4212-85ed-d406fea3a414"
      },
      "outputs": [
        {
          "output_type": "execute_result",
          "data": {
            "text/plain": [
              "20"
            ]
          },
          "metadata": {},
          "execution_count": 108
        }
      ],
      "source": [
        "len(l2) #will fetch the total number of element from list"
      ]
    },
    {
      "cell_type": "code",
      "execution_count": null,
      "metadata": {
        "id": "zm7nNclofJc1",
        "colab": {
          "base_uri": "https://localhost:8080/"
        },
        "outputId": "e3c4816c-2c41-4690-9092-fb2fa0079a7b"
      },
      "outputs": [
        {
          "output_type": "execute_result",
          "data": {
            "text/plain": [
              "5"
            ]
          },
          "metadata": {},
          "execution_count": 109
        }
      ],
      "source": [
        "l2.count(3) #will count the frequencyof 3 existing in the list"
      ]
    },
    {
      "cell_type": "code",
      "execution_count": null,
      "metadata": {
        "id": "tgROCESIfU17",
        "colab": {
          "base_uri": "https://localhost:8080/"
        },
        "outputId": "55c51ae6-3565-4fea-e20e-3d36bd5d852e"
      },
      "outputs": [
        {
          "output_type": "execute_result",
          "data": {
            "text/plain": [
              "3"
            ]
          },
          "metadata": {},
          "execution_count": 110
        }
      ],
      "source": [
        "l2.count(9)"
      ]
    },
    {
      "cell_type": "code",
      "execution_count": null,
      "metadata": {
        "id": "CVa8zOIufkkv",
        "colab": {
          "base_uri": "https://localhost:8080/"
        },
        "outputId": "2a9aedee-aec6-4ebf-f49e-a25aaf35813f"
      },
      "outputs": [
        {
          "output_type": "execute_result",
          "data": {
            "text/plain": [
              "3"
            ]
          },
          "metadata": {},
          "execution_count": 111
        }
      ],
      "source": [
        "l2.count(2)"
      ]
    },
    {
      "cell_type": "code",
      "execution_count": null,
      "metadata": {
        "id": "NgJt5rlkfmtf",
        "colab": {
          "base_uri": "https://localhost:8080/"
        },
        "outputId": "db3a0963-6b70-4276-bba0-49829b33e128"
      },
      "outputs": [
        {
          "output_type": "execute_result",
          "data": {
            "text/plain": [
              "92"
            ]
          },
          "metadata": {},
          "execution_count": 112
        }
      ],
      "source": [
        "sum(l2) #will add all the element in the list"
      ]
    },
    {
      "cell_type": "markdown",
      "metadata": {
        "id": "4xKGSVeBv7Fa"
      },
      "source": [
        "Question of the day:-\n",
        "\n",
        "\n",
        "\n",
        "my_list=['varanasi','lucknow','kanpur',['uttar pradesh','madhya pradesh',['delhi','faridabad','noida']]]\n",
        "\n",
        "1.['lucknow','uttar pradesh','madhya pradesh']\n",
        "\n",
        "2.['noida','faridabad','delhi']\n",
        "\n",
        "3.['noida','varanasi']"
      ]
    },
    {
      "cell_type": "code",
      "execution_count": null,
      "metadata": {
        "id": "8Sa6lYln7o_8"
      },
      "outputs": [],
      "source": [
        "my_list=['varanasi','lucknow','kanpur',['uttar pradesh','madhya pradesh',['delhi','faridabad','noida']]]"
      ]
    },
    {
      "cell_type": "code",
      "execution_count": null,
      "metadata": {
        "id": "7NBP-XR_7tn0"
      },
      "outputs": [],
      "source": [
        "a=my_list[1:2]"
      ]
    },
    {
      "cell_type": "code",
      "execution_count": null,
      "metadata": {
        "id": "_crJSTYI8nF5"
      },
      "outputs": [],
      "source": [
        "b=my_list[3] [0:2]"
      ]
    },
    {
      "cell_type": "code",
      "execution_count": null,
      "metadata": {
        "id": "90UWmjei82TT",
        "colab": {
          "base_uri": "https://localhost:8080/"
        },
        "outputId": "2078afc9-a6e2-40b0-8564-c4ea4eb2d917"
      },
      "outputs": [
        {
          "output_type": "stream",
          "name": "stdout",
          "text": [
            "['lucknow', 'uttar pradesh', 'madhya pradesh']\n"
          ]
        }
      ],
      "source": [
        "print(a+b)"
      ]
    },
    {
      "cell_type": "code",
      "execution_count": null,
      "metadata": {
        "id": "MSFX3cox86Pz",
        "colab": {
          "base_uri": "https://localhost:8080/"
        },
        "outputId": "7c7c15e1-331a-411b-e983-1ec1b6406c2d"
      },
      "outputs": [
        {
          "output_type": "execute_result",
          "data": {
            "text/plain": [
              "['noida', 'faridabad', 'delhi']"
            ]
          },
          "metadata": {},
          "execution_count": 117
        }
      ],
      "source": [
        "my_list[3][2][::-1]"
      ]
    },
    {
      "cell_type": "code",
      "execution_count": null,
      "metadata": {
        "id": "LdwlEqJd9ZFv",
        "colab": {
          "base_uri": "https://localhost:8080/"
        },
        "outputId": "37d37126-3f80-4a85-d962-8809ed6b1da9"
      },
      "outputs": [
        {
          "output_type": "execute_result",
          "data": {
            "text/plain": [
              "['kanpur', 'lucknow', 'varanasi']"
            ]
          },
          "metadata": {},
          "execution_count": 118
        }
      ],
      "source": [
        "my_list[-4:-1][::-1]"
      ]
    },
    {
      "cell_type": "code",
      "execution_count": null,
      "metadata": {
        "id": "9MOrzN_iAHkn",
        "colab": {
          "base_uri": "https://localhost:8080/"
        },
        "outputId": "9466f84e-99f2-4d35-b8dd-5ba463532986"
      },
      "outputs": [
        {
          "output_type": "execute_result",
          "data": {
            "text/plain": [
              "['kanpur', 'lucknow', 'varanasi']"
            ]
          },
          "metadata": {},
          "execution_count": 119
        }
      ],
      "source": [
        "my_list[0:3][::-1]"
      ]
    },
    {
      "cell_type": "code",
      "execution_count": null,
      "metadata": {
        "id": "ndcBFJ8lDbuF"
      },
      "outputs": [],
      "source": [
        "a=my_list[3][2][2:3]\n",
        "b=my_list[0:1]"
      ]
    },
    {
      "cell_type": "code",
      "execution_count": null,
      "metadata": {
        "id": "lgHVgYLIDqCr",
        "colab": {
          "base_uri": "https://localhost:8080/"
        },
        "outputId": "ca78dae2-f0fe-4ebc-d9b3-3be3764b02b4"
      },
      "outputs": [
        {
          "output_type": "stream",
          "name": "stdout",
          "text": [
            "['noida', 'varanasi']\n"
          ]
        }
      ],
      "source": [
        "print(a+b)"
      ]
    }
  ]
}