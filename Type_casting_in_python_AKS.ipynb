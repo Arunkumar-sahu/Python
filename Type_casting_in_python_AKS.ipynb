{
  "nbformat": 4,
  "nbformat_minor": 0,
  "metadata": {
    "colab": {
      "provenance": []
    },
    "kernelspec": {
      "name": "python3",
      "display_name": "Python 3"
    },
    "language_info": {
      "name": "python"
    }
  },
  "cells": [
    {
      "cell_type": "markdown",
      "source": [
        "**Type casting in python**"
      ],
      "metadata": {
        "id": "oJt5UXEaiOM3"
      }
    },
    {
      "cell_type": "code",
      "execution_count": 4,
      "metadata": {
        "colab": {
          "base_uri": "https://localhost:8080/"
        },
        "id": "i-Vya2IJiE6h",
        "outputId": "e3ac509b-5d77-4ff2-eaf5-becb0460758f"
      },
      "outputs": [
        {
          "name": "stdout",
          "output_type": "stream",
          "text": [
            "enter your nameArun kumar sahu\n"
          ]
        }
      ],
      "source": [
        "name=input('enter your name')"
      ]
    },
    {
      "cell_type": "code",
      "source": [
        "print(name)"
      ],
      "metadata": {
        "colab": {
          "base_uri": "https://localhost:8080/"
        },
        "id": "putnf1VriVtQ",
        "outputId": "9ae9adc5-ba79-4948-d250-d9319e0d6938"
      },
      "execution_count": 5,
      "outputs": [
        {
          "output_type": "stream",
          "name": "stdout",
          "text": [
            "Arun kumar sahu\n"
          ]
        }
      ]
    },
    {
      "cell_type": "code",
      "source": [
        "type(name)"
      ],
      "metadata": {
        "colab": {
          "base_uri": "https://localhost:8080/"
        },
        "id": "BW7Z8DLCivZU",
        "outputId": "2c7cc70f-dd8a-4281-9a8a-02f9459795f9"
      },
      "execution_count": 6,
      "outputs": [
        {
          "output_type": "execute_result",
          "data": {
            "text/plain": [
              "str"
            ]
          },
          "metadata": {},
          "execution_count": 6
        }
      ]
    },
    {
      "cell_type": "code",
      "source": [
        "otp=input('enter your otp')"
      ],
      "metadata": {
        "colab": {
          "base_uri": "https://localhost:8080/"
        },
        "id": "Gbkmy6U5ivV8",
        "outputId": "87f39d0d-7d90-41eb-8210-58d3871a49d9"
      },
      "execution_count": 8,
      "outputs": [
        {
          "name": "stdout",
          "output_type": "stream",
          "text": [
            "enter your otpb328d9ew\n"
          ]
        }
      ]
    },
    {
      "cell_type": "code",
      "source": [
        "print(otp)"
      ],
      "metadata": {
        "colab": {
          "base_uri": "https://localhost:8080/"
        },
        "id": "hOPBYcc4ivKS",
        "outputId": "087732f4-854b-42d4-c094-b13de1d0f6d2"
      },
      "execution_count": 9,
      "outputs": [
        {
          "output_type": "stream",
          "name": "stdout",
          "text": [
            "b328d9ew\n"
          ]
        }
      ]
    },
    {
      "cell_type": "code",
      "source": [
        "code=int(input(\"put your code\"))"
      ],
      "metadata": {
        "colab": {
          "base_uri": "https://localhost:8080/"
        },
        "id": "AQ3wXbBlivHF",
        "outputId": "1c84d167-dca0-4887-9762-cddadfb52641"
      },
      "execution_count": 11,
      "outputs": [
        {
          "name": "stdout",
          "output_type": "stream",
          "text": [
            "put your code8437\n"
          ]
        }
      ]
    },
    {
      "cell_type": "code",
      "source": [
        "print(code)"
      ],
      "metadata": {
        "colab": {
          "base_uri": "https://localhost:8080/"
        },
        "id": "76ZvQjz2ivCO",
        "outputId": "68528a62-3587-48c9-bd05-b4ea2acfcf77"
      },
      "execution_count": 12,
      "outputs": [
        {
          "output_type": "stream",
          "name": "stdout",
          "text": [
            "8437\n"
          ]
        }
      ]
    },
    {
      "cell_type": "code",
      "source": [
        "type(code)"
      ],
      "metadata": {
        "colab": {
          "base_uri": "https://localhost:8080/"
        },
        "id": "9VgufugDivE2",
        "outputId": "ee533a71-0f26-4855-c24e-90ac39555e83"
      },
      "execution_count": 13,
      "outputs": [
        {
          "output_type": "execute_result",
          "data": {
            "text/plain": [
              "int"
            ]
          },
          "metadata": {},
          "execution_count": 13
        }
      ]
    },
    {
      "cell_type": "code",
      "source": [
        "temp=float(input('temp of your city'))"
      ],
      "metadata": {
        "colab": {
          "base_uri": "https://localhost:8080/"
        },
        "id": "E2aVDOLbiu_i",
        "outputId": "f20833d0-99dc-41f3-bf9b-d476ce9b8633"
      },
      "execution_count": 14,
      "outputs": [
        {
          "name": "stdout",
          "output_type": "stream",
          "text": [
            "temp of your city37\n"
          ]
        }
      ]
    },
    {
      "cell_type": "code",
      "source": [
        "print(temp)"
      ],
      "metadata": {
        "colab": {
          "base_uri": "https://localhost:8080/"
        },
        "id": "S7p8yPFuiu8q",
        "outputId": "4cda3b87-2812-4d6f-b08c-fe81e5c4391f"
      },
      "execution_count": 15,
      "outputs": [
        {
          "output_type": "stream",
          "name": "stdout",
          "text": [
            "37.0\n"
          ]
        }
      ]
    },
    {
      "cell_type": "code",
      "source": [
        "type(temp)"
      ],
      "metadata": {
        "colab": {
          "base_uri": "https://localhost:8080/"
        },
        "id": "HGQMajcQjD8e",
        "outputId": "93056f93-84e4-417b-ce18-4a1d9e664450"
      },
      "execution_count": 16,
      "outputs": [
        {
          "output_type": "execute_result",
          "data": {
            "text/plain": [
              "float"
            ]
          },
          "metadata": {},
          "execution_count": 16
        }
      ]
    }
  ]
}