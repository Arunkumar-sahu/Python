{
  "nbformat": 4,
  "nbformat_minor": 0,
  "metadata": {
    "colab": {
      "provenance": []
    },
    "kernelspec": {
      "name": "python3",
      "display_name": "Python 3"
    },
    "language_info": {
      "name": "python"
    }
  },
  "cells": [
    {
      "cell_type": "markdown",
      "metadata": {
        "id": "aEH3h5TmucFH"
      },
      "source": [
        "**mathematical operators +,-,*,/,//**,%,**\n",
        "\n",
        "---\n",
        "\n",
        "\n"
      ]
    },
    {
      "cell_type": "code",
      "execution_count": null,
      "metadata": {
        "id": "ljyHvXiTtwA_"
      },
      "outputs": [],
      "source": [
        "a=20\n",
        "b=7"
      ]
    },
    {
      "cell_type": "code",
      "execution_count": null,
      "metadata": {
        "id": "TLUHmJ4wtv-s",
        "colab": {
          "base_uri": "https://localhost:8080/"
        },
        "outputId": "e02ba761-92b7-4ab0-ef40-e30f82ea5549"
      },
      "outputs": [
        {
          "output_type": "stream",
          "name": "stdout",
          "text": [
            "20\n"
          ]
        }
      ],
      "source": [
        "print(a)"
      ]
    },
    {
      "cell_type": "code",
      "execution_count": null,
      "metadata": {
        "id": "JClEjXIOtv8j",
        "colab": {
          "base_uri": "https://localhost:8080/"
        },
        "outputId": "7b500428-9e03-40ee-a698-97f2dee654b3"
      },
      "outputs": [
        {
          "output_type": "stream",
          "name": "stdout",
          "text": [
            "7\n"
          ]
        }
      ],
      "source": [
        "print(b)"
      ]
    },
    {
      "cell_type": "code",
      "execution_count": null,
      "metadata": {
        "id": "jLsSRhZbtv56",
        "colab": {
          "base_uri": "https://localhost:8080/"
        },
        "outputId": "1eee2b50-2ab0-4f3a-8c87-b4749fbc3007"
      },
      "outputs": [
        {
          "output_type": "stream",
          "name": "stdout",
          "text": [
            "27\n"
          ]
        }
      ],
      "source": [
        "print(a+b)"
      ]
    },
    {
      "cell_type": "code",
      "execution_count": null,
      "metadata": {
        "id": "p4RSsnt-tv3d"
      },
      "outputs": [],
      "source": [
        "c=(a+b)"
      ]
    },
    {
      "cell_type": "code",
      "execution_count": null,
      "metadata": {
        "id": "_5EjG6nxtv1X",
        "colab": {
          "base_uri": "https://localhost:8080/"
        },
        "outputId": "dcc997b0-d2a0-4614-9296-5e0c8f86b65a"
      },
      "outputs": [
        {
          "output_type": "stream",
          "name": "stdout",
          "text": [
            "27\n"
          ]
        }
      ],
      "source": [
        "print(c)"
      ]
    },
    {
      "cell_type": "code",
      "execution_count": null,
      "metadata": {
        "id": "aXgWY6jjtvy3",
        "colab": {
          "base_uri": "https://localhost:8080/"
        },
        "outputId": "14fca1f0-3f78-41a7-f8c9-76acfab7e454"
      },
      "outputs": [
        {
          "output_type": "stream",
          "name": "stdout",
          "text": [
            "13\n"
          ]
        }
      ],
      "source": [
        "print(a-b)\n"
      ]
    },
    {
      "cell_type": "code",
      "execution_count": null,
      "metadata": {
        "id": "pPCe1dTGtvv0"
      },
      "outputs": [],
      "source": [
        "d=(a-b)"
      ]
    },
    {
      "cell_type": "code",
      "execution_count": null,
      "metadata": {
        "id": "I4bz2WeztvtR",
        "colab": {
          "base_uri": "https://localhost:8080/"
        },
        "outputId": "b83238f1-1bf7-49ba-aae6-9c4e98c3d53f"
      },
      "outputs": [
        {
          "output_type": "stream",
          "name": "stdout",
          "text": [
            "13\n"
          ]
        }
      ],
      "source": [
        "print(d)"
      ]
    },
    {
      "cell_type": "code",
      "execution_count": null,
      "metadata": {
        "id": "pPlmXbdxtvn8",
        "colab": {
          "base_uri": "https://localhost:8080/"
        },
        "outputId": "62f27081-76b3-48e8-e33f-714f3274e48a"
      },
      "outputs": [
        {
          "output_type": "stream",
          "name": "stdout",
          "text": [
            "140\n"
          ]
        }
      ],
      "source": [
        "print(a*b)"
      ]
    },
    {
      "cell_type": "code",
      "execution_count": null,
      "metadata": {
        "id": "b1JrmaG8n0KK"
      },
      "outputs": [],
      "source": [
        "e=(a*b)"
      ]
    },
    {
      "cell_type": "code",
      "execution_count": null,
      "metadata": {
        "id": "Ik5Ux1Omv6sV",
        "colab": {
          "base_uri": "https://localhost:8080/"
        },
        "outputId": "380dd34a-a5b8-47d1-da19-2f3bda9a4e86"
      },
      "outputs": [
        {
          "output_type": "stream",
          "name": "stdout",
          "text": [
            "140\n"
          ]
        }
      ],
      "source": [
        "print(e)"
      ]
    },
    {
      "cell_type": "code",
      "execution_count": null,
      "metadata": {
        "id": "Ycyw_Aaav9H1",
        "colab": {
          "base_uri": "https://localhost:8080/"
        },
        "outputId": "692126a7-76a1-4ab8-cbf1-b03d8b0065da"
      },
      "outputs": [
        {
          "output_type": "stream",
          "name": "stdout",
          "text": [
            "2.857142857142857\n"
          ]
        }
      ],
      "source": [
        "print(a/b)"
      ]
    },
    {
      "cell_type": "code",
      "execution_count": null,
      "metadata": {
        "id": "wUsC1FOWv_Ts"
      },
      "outputs": [],
      "source": [
        "f=(a/b)"
      ]
    },
    {
      "cell_type": "code",
      "execution_count": null,
      "metadata": {
        "id": "H8qBeO-Gv_Rv",
        "colab": {
          "base_uri": "https://localhost:8080/"
        },
        "outputId": "b9341e0a-a1d8-40f5-de91-196d168a59dc"
      },
      "outputs": [
        {
          "output_type": "stream",
          "name": "stdout",
          "text": [
            "2.857142857142857\n"
          ]
        }
      ],
      "source": [
        "print(f)"
      ]
    },
    {
      "cell_type": "code",
      "execution_count": null,
      "metadata": {
        "id": "yilMzZHiv_Ou",
        "colab": {
          "base_uri": "https://localhost:8080/"
        },
        "outputId": "d21cbbc4-b14d-4a2e-8735-1055bf05a431"
      },
      "outputs": [
        {
          "output_type": "stream",
          "name": "stdout",
          "text": [
            "2\n"
          ]
        }
      ],
      "source": [
        "print(a//b)"
      ]
    },
    {
      "cell_type": "code",
      "execution_count": null,
      "metadata": {
        "id": "snMIANlvv_Mg"
      },
      "outputs": [],
      "source": [
        "g=(a//b)"
      ]
    },
    {
      "cell_type": "code",
      "execution_count": null,
      "metadata": {
        "id": "7q9CMFlhv_J8",
        "colab": {
          "base_uri": "https://localhost:8080/"
        },
        "outputId": "289ea349-4014-4314-de73-ad6e71138120"
      },
      "outputs": [
        {
          "output_type": "stream",
          "name": "stdout",
          "text": [
            "2\n"
          ]
        }
      ],
      "source": [
        "print(g)"
      ]
    },
    {
      "cell_type": "code",
      "execution_count": null,
      "metadata": {
        "id": "txcWOpoHwOgn"
      },
      "outputs": [],
      "source": [
        "a=13\n",
        "b=7"
      ]
    },
    {
      "cell_type": "code",
      "execution_count": null,
      "metadata": {
        "id": "zL5VT4vZwOa6"
      },
      "outputs": [],
      "source": [
        "c=(a**b)"
      ]
    },
    {
      "cell_type": "code",
      "execution_count": null,
      "metadata": {
        "id": "dLmzjlaBwOYW",
        "colab": {
          "base_uri": "https://localhost:8080/"
        },
        "outputId": "adc23946-1f53-4931-b2e8-9e75b1591dd1"
      },
      "outputs": [
        {
          "output_type": "stream",
          "name": "stdout",
          "text": [
            "62748517\n"
          ]
        }
      ],
      "source": [
        "print(c)"
      ]
    },
    {
      "cell_type": "code",
      "execution_count": null,
      "metadata": {
        "id": "Pbd2lxBrwOVv",
        "colab": {
          "base_uri": "https://localhost:8080/"
        },
        "outputId": "70d4bc55-be16-4082-ffb4-f3d8f0679efa"
      },
      "outputs": [
        {
          "output_type": "execute_result",
          "data": {
            "text/plain": [
              "int"
            ]
          },
          "metadata": {},
          "execution_count": 42
        }
      ],
      "source": [
        "type(c)"
      ]
    },
    {
      "cell_type": "code",
      "execution_count": null,
      "metadata": {
        "id": "evjptBxqwORS"
      },
      "outputs": [],
      "source": [
        "a=569366366574852286484\n",
        "b=830"
      ]
    },
    {
      "cell_type": "code",
      "execution_count": null,
      "metadata": {
        "id": "4uYaeiorwOOc",
        "colab": {
          "base_uri": "https://localhost:8080/"
        },
        "outputId": "5721f45d-2093-481c-e95c-6866d4c7d81b"
      },
      "outputs": [
        {
          "output_type": "stream",
          "name": "stdout",
          "text": [
            "714\n"
          ]
        }
      ],
      "source": [
        "print(a%b)"
      ]
    },
    {
      "cell_type": "code",
      "execution_count": null,
      "metadata": {
        "id": "dtSgUR9JwOL0",
        "colab": {
          "base_uri": "https://localhost:8080/"
        },
        "outputId": "b159dcab-0fac-46c7-ada0-4ed17c5fe043"
      },
      "outputs": [
        {
          "output_type": "execute_result",
          "data": {
            "text/plain": [
              "int"
            ]
          },
          "metadata": {},
          "execution_count": 45
        }
      ],
      "source": [
        "type(a%b)"
      ]
    },
    {
      "cell_type": "markdown",
      "metadata": {
        "id": "2XQncxEqmTif"
      },
      "source": [
        "## **concatination**"
      ]
    },
    {
      "cell_type": "code",
      "execution_count": null,
      "metadata": {
        "id": "p8kgniPfwOC-",
        "colab": {
          "base_uri": "https://localhost:8080/"
        },
        "outputId": "8221ff8c-61ea-4137-dd94-27de8ea569ff"
      },
      "outputs": [
        {
          "name": "stdout",
          "output_type": "stream",
          "text": [
            "enter your location\n"
          ]
        }
      ],
      "source": [
        "place=input('enter your location')\n",
        "a='i am from'\n",
        "b='it was a great place'\n",
        "c='visit again thank you'"
      ]
    },
    {
      "cell_type": "code",
      "execution_count": null,
      "metadata": {
        "id": "OwWf-FVzyT78",
        "colab": {
          "base_uri": "https://localhost:8080/"
        },
        "outputId": "03014048-686d-4905-b85f-c6989815cfc0"
      },
      "outputs": [
        {
          "output_type": "stream",
          "name": "stdout",
          "text": [
            "i am from  it was a great place visit again thank you\n"
          ]
        }
      ],
      "source": [
        "print(a+' '+place+' '+b+' '+c)"
      ]
    }
  ]
}