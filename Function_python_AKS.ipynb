{
  "nbformat": 4,
  "nbformat_minor": 0,
  "metadata": {
    "colab": {
      "provenance": []
    },
    "kernelspec": {
      "name": "python3",
      "display_name": "Python 3"
    },
    "language_info": {
      "name": "python"
    }
  },
  "cells": [
    {
      "cell_type": "markdown",
      "source": [
        "**Function**"
      ],
      "metadata": {
        "id": "S99OZOf_b8T4"
      }
    },
    {
      "cell_type": "markdown",
      "source": [
        "create a function which adds two number's"
      ],
      "metadata": {
        "id": "qJMHBpNPeqoS"
      }
    },
    {
      "cell_type": "code",
      "source": [
        "def add(a,b):\n",
        "  c=a+b\n",
        "  print(c)"
      ],
      "metadata": {
        "id": "bl2cDribbXw0"
      },
      "execution_count": null,
      "outputs": []
    },
    {
      "cell_type": "code",
      "source": [
        "add(1,3)"
      ],
      "metadata": {
        "colab": {
          "base_uri": "https://localhost:8080/"
        },
        "id": "O4XLyJe0e8qP",
        "outputId": "39fa2655-38af-41d9-ea58-0132d0bd6200"
      },
      "execution_count": null,
      "outputs": [
        {
          "output_type": "stream",
          "name": "stdout",
          "text": [
            "4\n"
          ]
        }
      ]
    },
    {
      "cell_type": "code",
      "source": [
        "add(-7,5)"
      ],
      "metadata": {
        "colab": {
          "base_uri": "https://localhost:8080/"
        },
        "id": "f3mRnQkRfAYU",
        "outputId": "26ce85f7-ebe9-4ca5-bbe9-7ecb15bb10f6"
      },
      "execution_count": null,
      "outputs": [
        {
          "output_type": "stream",
          "name": "stdout",
          "text": [
            "-2\n"
          ]
        }
      ]
    },
    {
      "cell_type": "code",
      "source": [
        "add(30,47)"
      ],
      "metadata": {
        "colab": {
          "base_uri": "https://localhost:8080/"
        },
        "id": "ItFji_7wfEIF",
        "outputId": "bfda6f6f-ab4e-4abd-fb5b-f948fd38e090"
      },
      "execution_count": null,
      "outputs": [
        {
          "output_type": "stream",
          "name": "stdout",
          "text": [
            "77\n"
          ]
        }
      ]
    },
    {
      "cell_type": "markdown",
      "source": [
        "create a function which adds three numbers"
      ],
      "metadata": {
        "id": "RHrMZ8WyfTw5"
      }
    },
    {
      "cell_type": "code",
      "source": [
        "def sum(x,y,z):\n",
        " p=x+y+z\n",
        " print(p)"
      ],
      "metadata": {
        "id": "CNuWN0BqfHJn"
      },
      "execution_count": null,
      "outputs": []
    },
    {
      "cell_type": "code",
      "source": [
        "sum(2,3,4)"
      ],
      "metadata": {
        "colab": {
          "base_uri": "https://localhost:8080/"
        },
        "id": "7PxQPJDZfZ1o",
        "outputId": "496e6825-51e0-40a3-e8b3-2e8800715c6b"
      },
      "execution_count": null,
      "outputs": [
        {
          "output_type": "stream",
          "name": "stdout",
          "text": [
            "9\n"
          ]
        }
      ]
    },
    {
      "cell_type": "markdown",
      "source": [
        "create a function which substracts three numbers"
      ],
      "metadata": {
        "id": "Ex3oll0rfwD4"
      }
    },
    {
      "cell_type": "code",
      "source": [
        "def sub(x,y,z):\n",
        "  q=x-y-z\n",
        "  print(q)"
      ],
      "metadata": {
        "id": "70yKOAjnft-Y"
      },
      "execution_count": null,
      "outputs": []
    },
    {
      "cell_type": "code",
      "source": [
        "\n",
        "sub(3,7,9)"
      ],
      "metadata": {
        "colab": {
          "base_uri": "https://localhost:8080/"
        },
        "id": "ZynYhm-zf-Uu",
        "outputId": "ce0d28cc-14d1-431a-ffd8-2b9fd8b01419"
      },
      "execution_count": null,
      "outputs": [
        {
          "output_type": "stream",
          "name": "stdout",
          "text": [
            "-13\n"
          ]
        }
      ]
    },
    {
      "cell_type": "markdown",
      "source": [
        "create a function which adds, substracts, multiplies, divides in float & integer both, exponents & percentile of two numbers"
      ],
      "metadata": {
        "id": "KQttYtiHgPsH"
      }
    },
    {
      "cell_type": "code",
      "source": [
        "def compute(a,b):\n",
        "\n",
        "  c=a+b\n",
        "  d=a-b\n",
        "  e=a*b\n",
        "  f=a/b\n",
        "  g=a//b\n",
        "  h=a**b\n",
        "  i=a%b\n",
        "\n",
        "  print(c,d,e,f,g,h,i)"
      ],
      "metadata": {
        "id": "qrvJ6qT_gD31"
      },
      "execution_count": null,
      "outputs": []
    },
    {
      "cell_type": "code",
      "source": [
        "compute(5,2)"
      ],
      "metadata": {
        "colab": {
          "base_uri": "https://localhost:8080/"
        },
        "id": "mZDpBjzfg1I4",
        "outputId": "14cfec7e-b97c-4236-ceb9-c6d5b34b5f85"
      },
      "execution_count": null,
      "outputs": [
        {
          "output_type": "stream",
          "name": "stdout",
          "text": [
            "7 3 10 2.5 2 25 1\n"
          ]
        }
      ]
    },
    {
      "cell_type": "markdown",
      "source": [
        "create a function which takes name and age as input from the user & display the age of the user."
      ],
      "metadata": {
        "id": "NW8Smuzqj8B1"
      }
    },
    {
      "cell_type": "code",
      "source": [
        "def details(name,age):\n",
        "\n",
        "  print('your age is',age)"
      ],
      "metadata": {
        "id": "O9T4nLheg-cB"
      },
      "execution_count": null,
      "outputs": []
    },
    {
      "cell_type": "code",
      "source": [
        "details('arun',25)"
      ],
      "metadata": {
        "colab": {
          "base_uri": "https://localhost:8080/"
        },
        "id": "-GbJRIZdkkbc",
        "outputId": "737315a8-aaaf-47bf-e110-e59bf4b1f99a"
      },
      "execution_count": null,
      "outputs": [
        {
          "output_type": "stream",
          "name": "stdout",
          "text": [
            "your age is 25\n"
          ]
        }
      ]
    },
    {
      "cell_type": "markdown",
      "source": [
        "create function which takes name & salary as input from the user & disply the salary of the user."
      ],
      "metadata": {
        "id": "E4p_9p8slSbq"
      }
    },
    {
      "cell_type": "code",
      "source": [
        "def info(name,salary):\n",
        "\n",
        "  print('your salary is',salary)"
      ],
      "metadata": {
        "id": "qhOLlrCukrHo"
      },
      "execution_count": null,
      "outputs": []
    },
    {
      "cell_type": "code",
      "source": [
        "info('arun',1200000)"
      ],
      "metadata": {
        "colab": {
          "base_uri": "https://localhost:8080/"
        },
        "id": "ucfb-Lnjlq4K",
        "outputId": "9de1f0be-08ac-4c5f-a5b2-f0aa0b2f60e9"
      },
      "execution_count": null,
      "outputs": [
        {
          "output_type": "stream",
          "name": "stdout",
          "text": [
            "your salary is 1200000\n"
          ]
        }
      ]
    },
    {
      "cell_type": "markdown",
      "source": [
        "create a function concludes the area & circumfrence of a circle.\n",
        "\n",
        "formula:- circumference- 2pir\n",
        "\n",
        "area- pi*r^2"
      ],
      "metadata": {
        "id": "BpFyBGHEl35c"
      }
    },
    {
      "cell_type": "code",
      "source": [
        "def circle(r):\n",
        "  area=3.14*r**2\n",
        "  circum=2*3.14*r\n",
        "  print('area of the circle is',area,'units of circumferenceis',circum,'units')"
      ],
      "metadata": {
        "id": "Eu4fzPfSlwnC"
      },
      "execution_count": null,
      "outputs": []
    },
    {
      "cell_type": "code",
      "source": [
        "circle(10)"
      ],
      "metadata": {
        "colab": {
          "base_uri": "https://localhost:8080/"
        },
        "id": "uRyFE4FunD1E",
        "outputId": "9ec671d2-e985-48ca-a43f-14ae5d392088"
      },
      "execution_count": null,
      "outputs": [
        {
          "output_type": "stream",
          "name": "stdout",
          "text": [
            "area of the circle is 314.0 units of circumferenceis 62.800000000000004 units\n"
          ]
        }
      ]
    },
    {
      "cell_type": "code",
      "source": [
        "circle(5)"
      ],
      "metadata": {
        "colab": {
          "base_uri": "https://localhost:8080/"
        },
        "id": "hiIB3ifooaFN",
        "outputId": "117ab95d-1ca7-48ea-ba06-d03c2daa875b"
      },
      "execution_count": null,
      "outputs": [
        {
          "output_type": "stream",
          "name": "stdout",
          "text": [
            "area of the circle is 78.5 units of circumferenceis 31.400000000000002 units\n"
          ]
        }
      ]
    },
    {
      "cell_type": "markdown",
      "source": [
        "create a function which computes area & perimeter of a range.\n",
        "\n",
        "formula:-\n",
        "\n",
        "area- l*b\n",
        "\n",
        "perimeter- 2(l+b)"
      ],
      "metadata": {
        "id": "y4PIMMGPmffD"
      }
    },
    {
      "cell_type": "code",
      "source": [
        "def rect(l,b):\n",
        "  area=l*b\n",
        "  perimeter=2*(l+b)\n",
        "  print('area of rectangle is',area,'and perimeter is',perimeter)"
      ],
      "metadata": {
        "id": "uy_qY6EYpijF"
      },
      "execution_count": null,
      "outputs": []
    },
    {
      "cell_type": "code",
      "source": [
        "rect(20,30)"
      ],
      "metadata": {
        "colab": {
          "base_uri": "https://localhost:8080/"
        },
        "id": "za89YFC6piXZ",
        "outputId": "ba3dde88-e2e4-4f13-ff09-ecfd4e0bb149"
      },
      "execution_count": null,
      "outputs": [
        {
          "output_type": "stream",
          "name": "stdout",
          "text": [
            "area of rectangle is 600 and perimeter is 100\n"
          ]
        }
      ]
    },
    {
      "cell_type": "markdown",
      "source": [
        "create a function which adds all the elements in a given group of number.\n",
        "\n",
        "l1=[2,3,4,5]\n",
        "\n",
        " #output- 14"
      ],
      "metadata": {
        "id": "CGyAhWBWqnZ3"
      }
    },
    {
      "cell_type": "code",
      "source": [
        "def sum(numbers):\n",
        "  sum=0\n",
        "\n",
        "  for i in numbers:\n",
        "    sum=sum+i\n",
        "\n",
        "  print(sum)"
      ],
      "metadata": {
        "id": "XQ3TepkYqf3P"
      },
      "execution_count": null,
      "outputs": []
    },
    {
      "cell_type": "code",
      "source": [
        "sum((2,3,4,5))"
      ],
      "metadata": {
        "colab": {
          "base_uri": "https://localhost:8080/"
        },
        "id": "RftR503mrqPB",
        "outputId": "b7d751b1-5cd7-4e53-f143-fefe4f032521"
      },
      "execution_count": null,
      "outputs": [
        {
          "output_type": "stream",
          "name": "stdout",
          "text": [
            "14\n"
          ]
        }
      ]
    },
    {
      "cell_type": "markdown",
      "source": [
        "create a function which computes area & perimeter of a rectangle."
      ],
      "metadata": {
        "id": "nR0q-xob2WtD"
      }
    },
    {
      "cell_type": "code",
      "source": [
        "def rect(l,b):\n",
        "  area=l*b\n",
        "  peri=2*(l+b)\n",
        "  print(area,peri)"
      ],
      "metadata": {
        "id": "ewWE4f2P2WHk"
      },
      "execution_count": null,
      "outputs": []
    },
    {
      "cell_type": "code",
      "source": [
        "rect(4,5)"
      ],
      "metadata": {
        "colab": {
          "base_uri": "https://localhost:8080/"
        },
        "id": "5Wg72nkm3Zzz",
        "outputId": "77eff3c6-d7d3-4beb-a2c7-b5bb9d49233c"
      },
      "execution_count": null,
      "outputs": [
        {
          "output_type": "stream",
          "name": "stdout",
          "text": [
            "20 18\n"
          ]
        }
      ]
    },
    {
      "cell_type": "markdown",
      "source": [
        "create a function which computes area & circumference of a circle."
      ],
      "metadata": {
        "id": "D2i12u_j3k-N"
      }
    },
    {
      "cell_type": "code",
      "source": [
        "def circle(r):\n",
        "  area=3.14*r**2\n",
        "  circumference=2*3.14*r\n",
        "  print('area of circle is', area, 'and circumference is', circumference)"
      ],
      "metadata": {
        "id": "GO-a2NSl3c0B"
      },
      "execution_count": null,
      "outputs": []
    },
    {
      "cell_type": "code",
      "source": [
        "circle(15)"
      ],
      "metadata": {
        "colab": {
          "base_uri": "https://localhost:8080/"
        },
        "id": "oE5oBIln4z0a",
        "outputId": "dc4cc9ba-c68d-4252-dd48-bc68d58d28e4"
      },
      "execution_count": null,
      "outputs": [
        {
          "output_type": "stream",
          "name": "stdout",
          "text": [
            "area of circle is 706.5 and circumference is 94.2\n"
          ]
        }
      ]
    },
    {
      "cell_type": "markdown",
      "source": [
        "create a function to accept three number as parameter & display the largest number out of the given number."
      ],
      "metadata": {
        "id": "sq74G-cC5AJN"
      }
    },
    {
      "cell_type": "code",
      "source": [
        "def max(a,b,c):\n",
        "\n",
        "  if a>b and a>c:\n",
        "    print('a is the greater')\n",
        "\n",
        "  elif b>a and b>c:\n",
        "    print('b is the greater')\n",
        "\n",
        "  else:\n",
        "    print('c is the greater')"
      ],
      "metadata": {
        "id": "XWsiuYhQ53du"
      },
      "execution_count": null,
      "outputs": []
    },
    {
      "cell_type": "code",
      "source": [
        "max(43479,34970,39826)"
      ],
      "metadata": {
        "colab": {
          "base_uri": "https://localhost:8080/"
        },
        "id": "tCsGWsaZ8CdO",
        "outputId": "8fffd253-349e-400f-b490-4046a27fb6b0"
      },
      "execution_count": null,
      "outputs": [
        {
          "output_type": "stream",
          "name": "stdout",
          "text": [
            "a is the greater\n"
          ]
        }
      ]
    },
    {
      "cell_type": "code",
      "source": [
        "max(538,478,742)"
      ],
      "metadata": {
        "colab": {
          "base_uri": "https://localhost:8080/"
        },
        "id": "1sdW1JqT8MjI",
        "outputId": "4ea1d6d1-f31f-4fbc-95b5-de058baf5758"
      },
      "execution_count": null,
      "outputs": [
        {
          "output_type": "stream",
          "name": "stdout",
          "text": [
            "c is the greater\n"
          ]
        }
      ]
    }
  ]
}